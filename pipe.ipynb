{
 "cells": [
  {
   "cell_type": "markdown",
   "id": "f2482495",
   "metadata": {},
   "source": [
    "# Author: Michael Elgin (melgin@uwyo.edu)\n",
    "# 2023_11_22\n",
    "\n",
    "# Notebook for Pipeline Optimization"
   ]
  },
  {
   "cell_type": "markdown",
   "metadata": {},
   "source": [
    "## Pipeline overview\n",
    "\n",
    "This notebook explores the following ML pipeline components:\n",
    "\n",
    "- Feature normalization\n",
    "- Feature reduction (dimensionality reduction)\n",
    "- Sample reduction\n",
    "\n",
    "Changes to these pipeline components are examined for their affect on regression and classification.\n",
    "\n",
    "For regression, a linear model is used. (white wine only)\n",
    "\n",
    "For classification, a decision tree is used.\n",
    "\n",
    "### Feature normalization overview\n",
    "\n",
    "Feature normalization, in this case, means to scale the features to their z-scores (or not).\n",
    "\n",
    "### Feature reduction overview\n",
    "\n",
    "Feature reduction will select the top 5 features that are most strongly positively/negatively correlated with the target (or not), discarding others.\n",
    "\n",
    "### Sample reduction overview\n",
    "\n",
    "Sample reduction, in this case, will be the decision of whether or not to remove outliers.\n",
    "\n",
    "These are values that are outside the range of [Q1 - factor * IQR, Q3 + factor * IQR]."
   ]
  },
  {
   "cell_type": "code",
   "execution_count": 1,
   "id": "f93bc177",
   "metadata": {},
   "outputs": [],
   "source": [
    "#Modules\n",
    "\n",
    "#Python 3.11.2\n",
    "import numpy as np #1.26.0\n",
    "import pandas as pd #1.5.3\n",
    "from sklearn.model_selection import GridSearchCV\n",
    "from scipy import stats\n",
    "import matplotlib.pyplot as plt\n",
    "from skopt import BayesSearchCV\n",
    "from skopt.space import Integer, Categorical"
   ]
  },
  {
   "cell_type": "code",
   "execution_count": 2,
   "id": "f1c3bc33",
   "metadata": {},
   "outputs": [],
   "source": [
    "#All regression algorithms will use the white wine dataset.\n",
    "#Classification will use both colors.\n",
    "df_red = pd.read_csv(\"data/winequality-red.csv\", sep=\";\")\n",
    "df_white = pd.read_csv(\"data/winequality-white.csv\", sep=\";\")\n",
    "\n",
    "features_red = df_red.iloc[:, :-1]\n",
    "features_white = df_white.iloc[:, :-1]\n",
    "target_red = df_red['quality']\n",
    "target_white = df_white['quality']\n",
    "\n",
    "df_red_no_qual = df_red.drop(\"quality\", axis=1)\n",
    "df_white_no_qual = df_white.drop(\"quality\", axis=1)\n",
    "df_red_no_qual[\"color\"] = 0\n",
    "df_white_no_qual[\"color\"] = 1\n",
    "df_all = pd.concat([df_white_no_qual, df_red_no_qual], ignore_index=True)\n",
    "features_all = df_all.iloc[:, :-1]\n",
    "target_all = df_all['color']"
   ]
  },
  {
   "cell_type": "markdown",
   "metadata": {},
   "source": [
    "#### Exploration of feature normalization - first see the effect of normalization on the data.\n"
   ]
  },
  {
   "cell_type": "code",
   "execution_count": 3,
   "metadata": {},
   "outputs": [],
   "source": [
    "#Normalize the data\n",
    "def pipe_normalize(df, target_name=None):\n",
    "    \"\"\"Will return a dataframe where columns have been zscored, can specify a target name to avoid zscoring\"\"\"\n",
    "    df_new = df.copy(deep=True)\n",
    "    columns = df_new.columns\n",
    "    if target_name in columns:\n",
    "        columns = columns.drop(target_name)\n",
    "    for column in columns:\n",
    "        df_new[column] = stats.zscore(df_new[column])\n",
    "    return df_new"
   ]
  },
  {
   "cell_type": "code",
   "execution_count": 4,
   "metadata": {},
   "outputs": [
    {
     "data": {
      "text/html": [
       "<div>\n",
       "<style scoped>\n",
       "    .dataframe tbody tr th:only-of-type {\n",
       "        vertical-align: middle;\n",
       "    }\n",
       "\n",
       "    .dataframe tbody tr th {\n",
       "        vertical-align: top;\n",
       "    }\n",
       "\n",
       "    .dataframe thead th {\n",
       "        text-align: right;\n",
       "    }\n",
       "</style>\n",
       "<table border=\"1\" class=\"dataframe\">\n",
       "  <thead>\n",
       "    <tr style=\"text-align: right;\">\n",
       "      <th></th>\n",
       "      <th>fixed acidity</th>\n",
       "      <th>volatile acidity</th>\n",
       "      <th>citric acid</th>\n",
       "      <th>residual sugar</th>\n",
       "      <th>chlorides</th>\n",
       "      <th>free sulfur dioxide</th>\n",
       "      <th>total sulfur dioxide</th>\n",
       "      <th>density</th>\n",
       "      <th>pH</th>\n",
       "      <th>sulphates</th>\n",
       "      <th>alcohol</th>\n",
       "      <th>quality</th>\n",
       "    </tr>\n",
       "  </thead>\n",
       "  <tbody>\n",
       "    <tr>\n",
       "      <th>count</th>\n",
       "      <td>4898.000000</td>\n",
       "      <td>4898.000000</td>\n",
       "      <td>4898.000000</td>\n",
       "      <td>4898.000000</td>\n",
       "      <td>4898.000000</td>\n",
       "      <td>4898.000000</td>\n",
       "      <td>4898.000000</td>\n",
       "      <td>4898.000000</td>\n",
       "      <td>4898.000000</td>\n",
       "      <td>4898.000000</td>\n",
       "      <td>4898.000000</td>\n",
       "      <td>4898.000000</td>\n",
       "    </tr>\n",
       "    <tr>\n",
       "      <th>mean</th>\n",
       "      <td>6.854788</td>\n",
       "      <td>0.278241</td>\n",
       "      <td>0.334192</td>\n",
       "      <td>6.391415</td>\n",
       "      <td>0.045772</td>\n",
       "      <td>35.308085</td>\n",
       "      <td>138.360657</td>\n",
       "      <td>0.994027</td>\n",
       "      <td>3.188267</td>\n",
       "      <td>0.489847</td>\n",
       "      <td>10.514267</td>\n",
       "      <td>5.877909</td>\n",
       "    </tr>\n",
       "    <tr>\n",
       "      <th>std</th>\n",
       "      <td>0.843868</td>\n",
       "      <td>0.100795</td>\n",
       "      <td>0.121020</td>\n",
       "      <td>5.072058</td>\n",
       "      <td>0.021848</td>\n",
       "      <td>17.007137</td>\n",
       "      <td>42.498065</td>\n",
       "      <td>0.002991</td>\n",
       "      <td>0.151001</td>\n",
       "      <td>0.114126</td>\n",
       "      <td>1.230621</td>\n",
       "      <td>0.885639</td>\n",
       "    </tr>\n",
       "    <tr>\n",
       "      <th>min</th>\n",
       "      <td>3.800000</td>\n",
       "      <td>0.080000</td>\n",
       "      <td>0.000000</td>\n",
       "      <td>0.600000</td>\n",
       "      <td>0.009000</td>\n",
       "      <td>2.000000</td>\n",
       "      <td>9.000000</td>\n",
       "      <td>0.987110</td>\n",
       "      <td>2.720000</td>\n",
       "      <td>0.220000</td>\n",
       "      <td>8.000000</td>\n",
       "      <td>3.000000</td>\n",
       "    </tr>\n",
       "    <tr>\n",
       "      <th>25%</th>\n",
       "      <td>6.300000</td>\n",
       "      <td>0.210000</td>\n",
       "      <td>0.270000</td>\n",
       "      <td>1.700000</td>\n",
       "      <td>0.036000</td>\n",
       "      <td>23.000000</td>\n",
       "      <td>108.000000</td>\n",
       "      <td>0.991723</td>\n",
       "      <td>3.090000</td>\n",
       "      <td>0.410000</td>\n",
       "      <td>9.500000</td>\n",
       "      <td>5.000000</td>\n",
       "    </tr>\n",
       "    <tr>\n",
       "      <th>50%</th>\n",
       "      <td>6.800000</td>\n",
       "      <td>0.260000</td>\n",
       "      <td>0.320000</td>\n",
       "      <td>5.200000</td>\n",
       "      <td>0.043000</td>\n",
       "      <td>34.000000</td>\n",
       "      <td>134.000000</td>\n",
       "      <td>0.993740</td>\n",
       "      <td>3.180000</td>\n",
       "      <td>0.470000</td>\n",
       "      <td>10.400000</td>\n",
       "      <td>6.000000</td>\n",
       "    </tr>\n",
       "    <tr>\n",
       "      <th>75%</th>\n",
       "      <td>7.300000</td>\n",
       "      <td>0.320000</td>\n",
       "      <td>0.390000</td>\n",
       "      <td>9.900000</td>\n",
       "      <td>0.050000</td>\n",
       "      <td>46.000000</td>\n",
       "      <td>167.000000</td>\n",
       "      <td>0.996100</td>\n",
       "      <td>3.280000</td>\n",
       "      <td>0.550000</td>\n",
       "      <td>11.400000</td>\n",
       "      <td>6.000000</td>\n",
       "    </tr>\n",
       "    <tr>\n",
       "      <th>max</th>\n",
       "      <td>14.200000</td>\n",
       "      <td>1.100000</td>\n",
       "      <td>1.660000</td>\n",
       "      <td>65.800000</td>\n",
       "      <td>0.346000</td>\n",
       "      <td>289.000000</td>\n",
       "      <td>440.000000</td>\n",
       "      <td>1.038980</td>\n",
       "      <td>3.820000</td>\n",
       "      <td>1.080000</td>\n",
       "      <td>14.200000</td>\n",
       "      <td>9.000000</td>\n",
       "    </tr>\n",
       "  </tbody>\n",
       "</table>\n",
       "</div>"
      ],
      "text/plain": [
       "       fixed acidity  volatile acidity  citric acid  residual sugar  \\\n",
       "count    4898.000000       4898.000000  4898.000000     4898.000000   \n",
       "mean        6.854788          0.278241     0.334192        6.391415   \n",
       "std         0.843868          0.100795     0.121020        5.072058   \n",
       "min         3.800000          0.080000     0.000000        0.600000   \n",
       "25%         6.300000          0.210000     0.270000        1.700000   \n",
       "50%         6.800000          0.260000     0.320000        5.200000   \n",
       "75%         7.300000          0.320000     0.390000        9.900000   \n",
       "max        14.200000          1.100000     1.660000       65.800000   \n",
       "\n",
       "         chlorides  free sulfur dioxide  total sulfur dioxide      density  \\\n",
       "count  4898.000000          4898.000000           4898.000000  4898.000000   \n",
       "mean      0.045772            35.308085            138.360657     0.994027   \n",
       "std       0.021848            17.007137             42.498065     0.002991   \n",
       "min       0.009000             2.000000              9.000000     0.987110   \n",
       "25%       0.036000            23.000000            108.000000     0.991723   \n",
       "50%       0.043000            34.000000            134.000000     0.993740   \n",
       "75%       0.050000            46.000000            167.000000     0.996100   \n",
       "max       0.346000           289.000000            440.000000     1.038980   \n",
       "\n",
       "                pH    sulphates      alcohol      quality  \n",
       "count  4898.000000  4898.000000  4898.000000  4898.000000  \n",
       "mean      3.188267     0.489847    10.514267     5.877909  \n",
       "std       0.151001     0.114126     1.230621     0.885639  \n",
       "min       2.720000     0.220000     8.000000     3.000000  \n",
       "25%       3.090000     0.410000     9.500000     5.000000  \n",
       "50%       3.180000     0.470000    10.400000     6.000000  \n",
       "75%       3.280000     0.550000    11.400000     6.000000  \n",
       "max       3.820000     1.080000    14.200000     9.000000  "
      ]
     },
     "execution_count": 4,
     "metadata": {},
     "output_type": "execute_result"
    }
   ],
   "source": [
    "df_white.describe() #Before"
   ]
  },
  {
   "cell_type": "code",
   "execution_count": 5,
   "metadata": {},
   "outputs": [
    {
     "data": {
      "text/html": [
       "<div>\n",
       "<style scoped>\n",
       "    .dataframe tbody tr th:only-of-type {\n",
       "        vertical-align: middle;\n",
       "    }\n",
       "\n",
       "    .dataframe tbody tr th {\n",
       "        vertical-align: top;\n",
       "    }\n",
       "\n",
       "    .dataframe thead th {\n",
       "        text-align: right;\n",
       "    }\n",
       "</style>\n",
       "<table border=\"1\" class=\"dataframe\">\n",
       "  <thead>\n",
       "    <tr style=\"text-align: right;\">\n",
       "      <th></th>\n",
       "      <th>fixed acidity</th>\n",
       "      <th>volatile acidity</th>\n",
       "      <th>citric acid</th>\n",
       "      <th>residual sugar</th>\n",
       "      <th>chlorides</th>\n",
       "      <th>free sulfur dioxide</th>\n",
       "      <th>total sulfur dioxide</th>\n",
       "      <th>density</th>\n",
       "      <th>pH</th>\n",
       "      <th>sulphates</th>\n",
       "      <th>alcohol</th>\n",
       "      <th>quality</th>\n",
       "    </tr>\n",
       "  </thead>\n",
       "  <tbody>\n",
       "    <tr>\n",
       "      <th>count</th>\n",
       "      <td>4.898000e+03</td>\n",
       "      <td>4.898000e+03</td>\n",
       "      <td>4.898000e+03</td>\n",
       "      <td>4.898000e+03</td>\n",
       "      <td>4.898000e+03</td>\n",
       "      <td>4.898000e+03</td>\n",
       "      <td>4.898000e+03</td>\n",
       "      <td>4.898000e+03</td>\n",
       "      <td>4.898000e+03</td>\n",
       "      <td>4.898000e+03</td>\n",
       "      <td>4.898000e+03</td>\n",
       "      <td>4898.000000</td>\n",
       "    </tr>\n",
       "    <tr>\n",
       "      <th>mean</th>\n",
       "      <td>-3.481630e-16</td>\n",
       "      <td>4.497106e-16</td>\n",
       "      <td>1.160543e-17</td>\n",
       "      <td>-1.066249e-16</td>\n",
       "      <td>3.133467e-16</td>\n",
       "      <td>-1.015476e-17</td>\n",
       "      <td>-4.642174e-17</td>\n",
       "      <td>3.247201e-14</td>\n",
       "      <td>-1.183754e-15</td>\n",
       "      <td>-8.218098e-16</td>\n",
       "      <td>-3.713739e-16</td>\n",
       "      <td>5.877909</td>\n",
       "    </tr>\n",
       "    <tr>\n",
       "      <th>std</th>\n",
       "      <td>1.000102e+00</td>\n",
       "      <td>1.000102e+00</td>\n",
       "      <td>1.000102e+00</td>\n",
       "      <td>1.000102e+00</td>\n",
       "      <td>1.000102e+00</td>\n",
       "      <td>1.000102e+00</td>\n",
       "      <td>1.000102e+00</td>\n",
       "      <td>1.000102e+00</td>\n",
       "      <td>1.000102e+00</td>\n",
       "      <td>1.000102e+00</td>\n",
       "      <td>1.000102e+00</td>\n",
       "      <td>0.885639</td>\n",
       "    </tr>\n",
       "    <tr>\n",
       "      <th>min</th>\n",
       "      <td>-3.620351e+00</td>\n",
       "      <td>-1.966985e+00</td>\n",
       "      <td>-2.761743e+00</td>\n",
       "      <td>-1.141944e+00</td>\n",
       "      <td>-1.683274e+00</td>\n",
       "      <td>-1.958677e+00</td>\n",
       "      <td>-3.044230e+00</td>\n",
       "      <td>-2.313038e+00</td>\n",
       "      <td>-3.101408e+00</td>\n",
       "      <td>-2.364709e+00</td>\n",
       "      <td>-2.043297e+00</td>\n",
       "      <td>3.000000</td>\n",
       "    </tr>\n",
       "    <tr>\n",
       "      <th>25%</th>\n",
       "      <td>-6.575011e-01</td>\n",
       "      <td>-6.771010e-01</td>\n",
       "      <td>-5.304757e-01</td>\n",
       "      <td>-9.250474e-01</td>\n",
       "      <td>-4.473347e-01</td>\n",
       "      <td>-7.237750e-01</td>\n",
       "      <td>-7.144739e-01</td>\n",
       "      <td>-7.707066e-01</td>\n",
       "      <td>-6.508363e-01</td>\n",
       "      <td>-6.997104e-01</td>\n",
       "      <td>-8.242757e-01</td>\n",
       "      <td>5.000000</td>\n",
       "    </tr>\n",
       "    <tr>\n",
       "      <th>50%</th>\n",
       "      <td>-6.493106e-02</td>\n",
       "      <td>-1.809917e-01</td>\n",
       "      <td>-1.172780e-01</td>\n",
       "      <td>-2.349217e-01</td>\n",
       "      <td>-1.269060e-01</td>\n",
       "      <td>-7.692173e-02</td>\n",
       "      <td>-1.026189e-01</td>\n",
       "      <td>-9.609320e-02</td>\n",
       "      <td>-5.475133e-02</td>\n",
       "      <td>-1.739212e-01</td>\n",
       "      <td>-9.286267e-02</td>\n",
       "      <td>6.000000</td>\n",
       "    </tr>\n",
       "    <tr>\n",
       "      <th>75%</th>\n",
       "      <td>5.276390e-01</td>\n",
       "      <td>4.143393e-01</td>\n",
       "      <td>4.611988e-01</td>\n",
       "      <td>6.918185e-01</td>\n",
       "      <td>1.935226e-01</td>\n",
       "      <td>6.287364e-01</td>\n",
       "      <td>6.739664e-01</td>\n",
       "      <td>6.930457e-01</td>\n",
       "      <td>6.075653e-01</td>\n",
       "      <td>5.271310e-01</td>\n",
       "      <td>7.198184e-01</td>\n",
       "      <td>6.000000</td>\n",
       "    </tr>\n",
       "    <tr>\n",
       "      <th>max</th>\n",
       "      <td>8.705106e+00</td>\n",
       "      <td>8.153643e+00</td>\n",
       "      <td>1.095642e+01</td>\n",
       "      <td>1.171411e+01</td>\n",
       "      <td>1.374308e+01</td>\n",
       "      <td>1.491831e+01</td>\n",
       "      <td>7.098444e+00</td>\n",
       "      <td>1.503130e+01</td>\n",
       "      <td>4.184075e+00</td>\n",
       "      <td>5.171602e+00</td>\n",
       "      <td>2.995326e+00</td>\n",
       "      <td>9.000000</td>\n",
       "    </tr>\n",
       "  </tbody>\n",
       "</table>\n",
       "</div>"
      ],
      "text/plain": [
       "       fixed acidity  volatile acidity   citric acid  residual sugar  \\\n",
       "count   4.898000e+03      4.898000e+03  4.898000e+03    4.898000e+03   \n",
       "mean   -3.481630e-16      4.497106e-16  1.160543e-17   -1.066249e-16   \n",
       "std     1.000102e+00      1.000102e+00  1.000102e+00    1.000102e+00   \n",
       "min    -3.620351e+00     -1.966985e+00 -2.761743e+00   -1.141944e+00   \n",
       "25%    -6.575011e-01     -6.771010e-01 -5.304757e-01   -9.250474e-01   \n",
       "50%    -6.493106e-02     -1.809917e-01 -1.172780e-01   -2.349217e-01   \n",
       "75%     5.276390e-01      4.143393e-01  4.611988e-01    6.918185e-01   \n",
       "max     8.705106e+00      8.153643e+00  1.095642e+01    1.171411e+01   \n",
       "\n",
       "          chlorides  free sulfur dioxide  total sulfur dioxide       density  \\\n",
       "count  4.898000e+03         4.898000e+03          4.898000e+03  4.898000e+03   \n",
       "mean   3.133467e-16        -1.015476e-17         -4.642174e-17  3.247201e-14   \n",
       "std    1.000102e+00         1.000102e+00          1.000102e+00  1.000102e+00   \n",
       "min   -1.683274e+00        -1.958677e+00         -3.044230e+00 -2.313038e+00   \n",
       "25%   -4.473347e-01        -7.237750e-01         -7.144739e-01 -7.707066e-01   \n",
       "50%   -1.269060e-01        -7.692173e-02         -1.026189e-01 -9.609320e-02   \n",
       "75%    1.935226e-01         6.287364e-01          6.739664e-01  6.930457e-01   \n",
       "max    1.374308e+01         1.491831e+01          7.098444e+00  1.503130e+01   \n",
       "\n",
       "                 pH     sulphates       alcohol      quality  \n",
       "count  4.898000e+03  4.898000e+03  4.898000e+03  4898.000000  \n",
       "mean  -1.183754e-15 -8.218098e-16 -3.713739e-16     5.877909  \n",
       "std    1.000102e+00  1.000102e+00  1.000102e+00     0.885639  \n",
       "min   -3.101408e+00 -2.364709e+00 -2.043297e+00     3.000000  \n",
       "25%   -6.508363e-01 -6.997104e-01 -8.242757e-01     5.000000  \n",
       "50%   -5.475133e-02 -1.739212e-01 -9.286267e-02     6.000000  \n",
       "75%    6.075653e-01  5.271310e-01  7.198184e-01     6.000000  \n",
       "max    4.184075e+00  5.171602e+00  2.995326e+00     9.000000  "
      ]
     },
     "execution_count": 5,
     "metadata": {},
     "output_type": "execute_result"
    }
   ],
   "source": [
    "df_white_norm = pipe_normalize(df_white, target_name=\"quality\")\n",
    "df_white_norm.describe() #After"
   ]
  },
  {
   "cell_type": "code",
   "execution_count": 6,
   "metadata": {},
   "outputs": [
    {
     "data": {
      "text/html": [
       "<div>\n",
       "<style scoped>\n",
       "    .dataframe tbody tr th:only-of-type {\n",
       "        vertical-align: middle;\n",
       "    }\n",
       "\n",
       "    .dataframe tbody tr th {\n",
       "        vertical-align: top;\n",
       "    }\n",
       "\n",
       "    .dataframe thead th {\n",
       "        text-align: right;\n",
       "    }\n",
       "</style>\n",
       "<table border=\"1\" class=\"dataframe\">\n",
       "  <thead>\n",
       "    <tr style=\"text-align: right;\">\n",
       "      <th></th>\n",
       "      <th>fixed acidity</th>\n",
       "      <th>volatile acidity</th>\n",
       "      <th>citric acid</th>\n",
       "      <th>residual sugar</th>\n",
       "      <th>chlorides</th>\n",
       "      <th>free sulfur dioxide</th>\n",
       "      <th>total sulfur dioxide</th>\n",
       "      <th>density</th>\n",
       "      <th>pH</th>\n",
       "      <th>sulphates</th>\n",
       "      <th>alcohol</th>\n",
       "      <th>color</th>\n",
       "    </tr>\n",
       "  </thead>\n",
       "  <tbody>\n",
       "    <tr>\n",
       "      <th>count</th>\n",
       "      <td>6497.000000</td>\n",
       "      <td>6497.000000</td>\n",
       "      <td>6497.000000</td>\n",
       "      <td>6497.000000</td>\n",
       "      <td>6497.000000</td>\n",
       "      <td>6497.000000</td>\n",
       "      <td>6497.000000</td>\n",
       "      <td>6497.000000</td>\n",
       "      <td>6497.000000</td>\n",
       "      <td>6497.000000</td>\n",
       "      <td>6497.000000</td>\n",
       "      <td>6497.000000</td>\n",
       "    </tr>\n",
       "    <tr>\n",
       "      <th>mean</th>\n",
       "      <td>7.215307</td>\n",
       "      <td>0.339666</td>\n",
       "      <td>0.318633</td>\n",
       "      <td>5.443235</td>\n",
       "      <td>0.056034</td>\n",
       "      <td>30.525319</td>\n",
       "      <td>115.744574</td>\n",
       "      <td>0.994697</td>\n",
       "      <td>3.218501</td>\n",
       "      <td>0.531268</td>\n",
       "      <td>10.491801</td>\n",
       "      <td>0.753886</td>\n",
       "    </tr>\n",
       "    <tr>\n",
       "      <th>std</th>\n",
       "      <td>1.296434</td>\n",
       "      <td>0.164636</td>\n",
       "      <td>0.145318</td>\n",
       "      <td>4.757804</td>\n",
       "      <td>0.035034</td>\n",
       "      <td>17.749400</td>\n",
       "      <td>56.521855</td>\n",
       "      <td>0.002999</td>\n",
       "      <td>0.160787</td>\n",
       "      <td>0.148806</td>\n",
       "      <td>1.192712</td>\n",
       "      <td>0.430779</td>\n",
       "    </tr>\n",
       "    <tr>\n",
       "      <th>min</th>\n",
       "      <td>3.800000</td>\n",
       "      <td>0.080000</td>\n",
       "      <td>0.000000</td>\n",
       "      <td>0.600000</td>\n",
       "      <td>0.009000</td>\n",
       "      <td>1.000000</td>\n",
       "      <td>6.000000</td>\n",
       "      <td>0.987110</td>\n",
       "      <td>2.720000</td>\n",
       "      <td>0.220000</td>\n",
       "      <td>8.000000</td>\n",
       "      <td>0.000000</td>\n",
       "    </tr>\n",
       "    <tr>\n",
       "      <th>25%</th>\n",
       "      <td>6.400000</td>\n",
       "      <td>0.230000</td>\n",
       "      <td>0.250000</td>\n",
       "      <td>1.800000</td>\n",
       "      <td>0.038000</td>\n",
       "      <td>17.000000</td>\n",
       "      <td>77.000000</td>\n",
       "      <td>0.992340</td>\n",
       "      <td>3.110000</td>\n",
       "      <td>0.430000</td>\n",
       "      <td>9.500000</td>\n",
       "      <td>1.000000</td>\n",
       "    </tr>\n",
       "    <tr>\n",
       "      <th>50%</th>\n",
       "      <td>7.000000</td>\n",
       "      <td>0.290000</td>\n",
       "      <td>0.310000</td>\n",
       "      <td>3.000000</td>\n",
       "      <td>0.047000</td>\n",
       "      <td>29.000000</td>\n",
       "      <td>118.000000</td>\n",
       "      <td>0.994890</td>\n",
       "      <td>3.210000</td>\n",
       "      <td>0.510000</td>\n",
       "      <td>10.300000</td>\n",
       "      <td>1.000000</td>\n",
       "    </tr>\n",
       "    <tr>\n",
       "      <th>75%</th>\n",
       "      <td>7.700000</td>\n",
       "      <td>0.400000</td>\n",
       "      <td>0.390000</td>\n",
       "      <td>8.100000</td>\n",
       "      <td>0.065000</td>\n",
       "      <td>41.000000</td>\n",
       "      <td>156.000000</td>\n",
       "      <td>0.996990</td>\n",
       "      <td>3.320000</td>\n",
       "      <td>0.600000</td>\n",
       "      <td>11.300000</td>\n",
       "      <td>1.000000</td>\n",
       "    </tr>\n",
       "    <tr>\n",
       "      <th>max</th>\n",
       "      <td>15.900000</td>\n",
       "      <td>1.580000</td>\n",
       "      <td>1.660000</td>\n",
       "      <td>65.800000</td>\n",
       "      <td>0.611000</td>\n",
       "      <td>289.000000</td>\n",
       "      <td>440.000000</td>\n",
       "      <td>1.038980</td>\n",
       "      <td>4.010000</td>\n",
       "      <td>2.000000</td>\n",
       "      <td>14.900000</td>\n",
       "      <td>1.000000</td>\n",
       "    </tr>\n",
       "  </tbody>\n",
       "</table>\n",
       "</div>"
      ],
      "text/plain": [
       "       fixed acidity  volatile acidity  citric acid  residual sugar  \\\n",
       "count    6497.000000       6497.000000  6497.000000     6497.000000   \n",
       "mean        7.215307          0.339666     0.318633        5.443235   \n",
       "std         1.296434          0.164636     0.145318        4.757804   \n",
       "min         3.800000          0.080000     0.000000        0.600000   \n",
       "25%         6.400000          0.230000     0.250000        1.800000   \n",
       "50%         7.000000          0.290000     0.310000        3.000000   \n",
       "75%         7.700000          0.400000     0.390000        8.100000   \n",
       "max        15.900000          1.580000     1.660000       65.800000   \n",
       "\n",
       "         chlorides  free sulfur dioxide  total sulfur dioxide      density  \\\n",
       "count  6497.000000          6497.000000           6497.000000  6497.000000   \n",
       "mean      0.056034            30.525319            115.744574     0.994697   \n",
       "std       0.035034            17.749400             56.521855     0.002999   \n",
       "min       0.009000             1.000000              6.000000     0.987110   \n",
       "25%       0.038000            17.000000             77.000000     0.992340   \n",
       "50%       0.047000            29.000000            118.000000     0.994890   \n",
       "75%       0.065000            41.000000            156.000000     0.996990   \n",
       "max       0.611000           289.000000            440.000000     1.038980   \n",
       "\n",
       "                pH    sulphates      alcohol        color  \n",
       "count  6497.000000  6497.000000  6497.000000  6497.000000  \n",
       "mean      3.218501     0.531268    10.491801     0.753886  \n",
       "std       0.160787     0.148806     1.192712     0.430779  \n",
       "min       2.720000     0.220000     8.000000     0.000000  \n",
       "25%       3.110000     0.430000     9.500000     1.000000  \n",
       "50%       3.210000     0.510000    10.300000     1.000000  \n",
       "75%       3.320000     0.600000    11.300000     1.000000  \n",
       "max       4.010000     2.000000    14.900000     1.000000  "
      ]
     },
     "execution_count": 6,
     "metadata": {},
     "output_type": "execute_result"
    }
   ],
   "source": [
    "df_all.describe() #Before"
   ]
  },
  {
   "cell_type": "code",
   "execution_count": 7,
   "metadata": {},
   "outputs": [
    {
     "data": {
      "text/html": [
       "<div>\n",
       "<style scoped>\n",
       "    .dataframe tbody tr th:only-of-type {\n",
       "        vertical-align: middle;\n",
       "    }\n",
       "\n",
       "    .dataframe tbody tr th {\n",
       "        vertical-align: top;\n",
       "    }\n",
       "\n",
       "    .dataframe thead th {\n",
       "        text-align: right;\n",
       "    }\n",
       "</style>\n",
       "<table border=\"1\" class=\"dataframe\">\n",
       "  <thead>\n",
       "    <tr style=\"text-align: right;\">\n",
       "      <th></th>\n",
       "      <th>fixed acidity</th>\n",
       "      <th>volatile acidity</th>\n",
       "      <th>citric acid</th>\n",
       "      <th>residual sugar</th>\n",
       "      <th>chlorides</th>\n",
       "      <th>free sulfur dioxide</th>\n",
       "      <th>total sulfur dioxide</th>\n",
       "      <th>density</th>\n",
       "      <th>pH</th>\n",
       "      <th>sulphates</th>\n",
       "      <th>alcohol</th>\n",
       "      <th>color</th>\n",
       "    </tr>\n",
       "  </thead>\n",
       "  <tbody>\n",
       "    <tr>\n",
       "      <th>count</th>\n",
       "      <td>6.497000e+03</td>\n",
       "      <td>6.497000e+03</td>\n",
       "      <td>6.497000e+03</td>\n",
       "      <td>6.497000e+03</td>\n",
       "      <td>6497.000000</td>\n",
       "      <td>6.497000e+03</td>\n",
       "      <td>6497.000000</td>\n",
       "      <td>6.497000e+03</td>\n",
       "      <td>6.497000e+03</td>\n",
       "      <td>6.497000e+03</td>\n",
       "      <td>6.497000e+03</td>\n",
       "      <td>6497.000000</td>\n",
       "    </tr>\n",
       "    <tr>\n",
       "      <th>mean</th>\n",
       "      <td>2.624754e-16</td>\n",
       "      <td>-2.449770e-16</td>\n",
       "      <td>3.499672e-17</td>\n",
       "      <td>6.999344e-17</td>\n",
       "      <td>0.000000</td>\n",
       "      <td>-8.749179e-17</td>\n",
       "      <td>0.000000</td>\n",
       "      <td>-3.560916e-15</td>\n",
       "      <td>2.738493e-15</td>\n",
       "      <td>2.099803e-16</td>\n",
       "      <td>-1.994813e-15</td>\n",
       "      <td>0.753886</td>\n",
       "    </tr>\n",
       "    <tr>\n",
       "      <th>std</th>\n",
       "      <td>1.000077e+00</td>\n",
       "      <td>1.000077e+00</td>\n",
       "      <td>1.000077e+00</td>\n",
       "      <td>1.000077e+00</td>\n",
       "      <td>1.000077</td>\n",
       "      <td>1.000077e+00</td>\n",
       "      <td>1.000077</td>\n",
       "      <td>1.000077e+00</td>\n",
       "      <td>1.000077e+00</td>\n",
       "      <td>1.000077e+00</td>\n",
       "      <td>1.000077e+00</td>\n",
       "      <td>0.430779</td>\n",
       "    </tr>\n",
       "    <tr>\n",
       "      <th>min</th>\n",
       "      <td>-2.634589e+00</td>\n",
       "      <td>-1.577330e+00</td>\n",
       "      <td>-2.192833e+00</td>\n",
       "      <td>-1.018034e+00</td>\n",
       "      <td>-1.342639</td>\n",
       "      <td>-1.663583e+00</td>\n",
       "      <td>-1.941780</td>\n",
       "      <td>-2.530192e+00</td>\n",
       "      <td>-3.100615e+00</td>\n",
       "      <td>-2.091935e+00</td>\n",
       "      <td>-2.089350e+00</td>\n",
       "      <td>0.000000</td>\n",
       "    </tr>\n",
       "    <tr>\n",
       "      <th>25%</th>\n",
       "      <td>-6.289329e-01</td>\n",
       "      <td>-6.661613e-01</td>\n",
       "      <td>-4.723335e-01</td>\n",
       "      <td>-7.657978e-01</td>\n",
       "      <td>-0.514799</td>\n",
       "      <td>-7.620742e-01</td>\n",
       "      <td>-0.685532</td>\n",
       "      <td>-7.859527e-01</td>\n",
       "      <td>-6.748622e-01</td>\n",
       "      <td>-6.805919e-01</td>\n",
       "      <td>-8.316152e-01</td>\n",
       "      <td>1.000000</td>\n",
       "    </tr>\n",
       "    <tr>\n",
       "      <th>50%</th>\n",
       "      <td>-1.660892e-01</td>\n",
       "      <td>-3.016939e-01</td>\n",
       "      <td>-5.941375e-02</td>\n",
       "      <td>-5.135612e-01</td>\n",
       "      <td>-0.257883</td>\n",
       "      <td>-8.594301e-02</td>\n",
       "      <td>0.039907</td>\n",
       "      <td>6.448888e-02</td>\n",
       "      <td>-5.287424e-02</td>\n",
       "      <td>-1.429373e-01</td>\n",
       "      <td>-1.608231e-01</td>\n",
       "      <td>1.000000</td>\n",
       "    </tr>\n",
       "    <tr>\n",
       "      <th>75%</th>\n",
       "      <td>3.738951e-01</td>\n",
       "      <td>3.664962e-01</td>\n",
       "      <td>4.911459e-01</td>\n",
       "      <td>5.584445e-01</td>\n",
       "      <td>0.255949</td>\n",
       "      <td>5.901882e-01</td>\n",
       "      <td>0.712265</td>\n",
       "      <td>7.648525e-01</td>\n",
       "      <td>6.313125e-01</td>\n",
       "      <td>4.619241e-01</td>\n",
       "      <td>6.776670e-01</td>\n",
       "      <td>1.000000</td>\n",
       "    </tr>\n",
       "    <tr>\n",
       "      <th>max</th>\n",
       "      <td>6.699425e+00</td>\n",
       "      <td>7.534354e+00</td>\n",
       "      <td>9.231281e+00</td>\n",
       "      <td>1.268682e+01</td>\n",
       "      <td>15.842187</td>\n",
       "      <td>1.456357e+01</td>\n",
       "      <td>5.737257</td>\n",
       "      <td>1.476879e+01</td>\n",
       "      <td>4.923029e+00</td>\n",
       "      <td>9.870879e+00</td>\n",
       "      <td>3.696231e+00</td>\n",
       "      <td>1.000000</td>\n",
       "    </tr>\n",
       "  </tbody>\n",
       "</table>\n",
       "</div>"
      ],
      "text/plain": [
       "       fixed acidity  volatile acidity   citric acid  residual sugar  \\\n",
       "count   6.497000e+03      6.497000e+03  6.497000e+03    6.497000e+03   \n",
       "mean    2.624754e-16     -2.449770e-16  3.499672e-17    6.999344e-17   \n",
       "std     1.000077e+00      1.000077e+00  1.000077e+00    1.000077e+00   \n",
       "min    -2.634589e+00     -1.577330e+00 -2.192833e+00   -1.018034e+00   \n",
       "25%    -6.289329e-01     -6.661613e-01 -4.723335e-01   -7.657978e-01   \n",
       "50%    -1.660892e-01     -3.016939e-01 -5.941375e-02   -5.135612e-01   \n",
       "75%     3.738951e-01      3.664962e-01  4.911459e-01    5.584445e-01   \n",
       "max     6.699425e+00      7.534354e+00  9.231281e+00    1.268682e+01   \n",
       "\n",
       "         chlorides  free sulfur dioxide  total sulfur dioxide       density  \\\n",
       "count  6497.000000         6.497000e+03           6497.000000  6.497000e+03   \n",
       "mean      0.000000        -8.749179e-17              0.000000 -3.560916e-15   \n",
       "std       1.000077         1.000077e+00              1.000077  1.000077e+00   \n",
       "min      -1.342639        -1.663583e+00             -1.941780 -2.530192e+00   \n",
       "25%      -0.514799        -7.620742e-01             -0.685532 -7.859527e-01   \n",
       "50%      -0.257883        -8.594301e-02              0.039907  6.448888e-02   \n",
       "75%       0.255949         5.901882e-01              0.712265  7.648525e-01   \n",
       "max      15.842187         1.456357e+01              5.737257  1.476879e+01   \n",
       "\n",
       "                 pH     sulphates       alcohol        color  \n",
       "count  6.497000e+03  6.497000e+03  6.497000e+03  6497.000000  \n",
       "mean   2.738493e-15  2.099803e-16 -1.994813e-15     0.753886  \n",
       "std    1.000077e+00  1.000077e+00  1.000077e+00     0.430779  \n",
       "min   -3.100615e+00 -2.091935e+00 -2.089350e+00     0.000000  \n",
       "25%   -6.748622e-01 -6.805919e-01 -8.316152e-01     1.000000  \n",
       "50%   -5.287424e-02 -1.429373e-01 -1.608231e-01     1.000000  \n",
       "75%    6.313125e-01  4.619241e-01  6.776670e-01     1.000000  \n",
       "max    4.923029e+00  9.870879e+00  3.696231e+00     1.000000  "
      ]
     },
     "execution_count": 7,
     "metadata": {},
     "output_type": "execute_result"
    }
   ],
   "source": [
    "df_all_norm = pipe_normalize(df_all, target_name=\"color\")\n",
    "df_all_norm.describe() #After"
   ]
  },
  {
   "cell_type": "markdown",
   "metadata": {},
   "source": [
    "#### Exploration of feature reduction"
   ]
  },
  {
   "cell_type": "code",
   "execution_count": 8,
   "metadata": {},
   "outputs": [],
   "source": [
    "#Function to reduce the amount of features\n",
    "def pipe_feature_reduce(df, target_name:str, amt=5):\n",
    "    \"\"\"Will return a dataframe with top <amt> of features based on correlation with target\"\"\"\n",
    "    corr = df.corr()\n",
    "    corr = corr.drop([column for column in corr.columns if column != target_name], axis=1)\n",
    "    corr = corr.drop(target_name, axis=0)\n",
    "    corr[target_name] = abs(corr[target_name])\n",
    "    features_with_corr = [i for i in zip(corr.index, [val for val in corr[target_name]])]\n",
    "    features_with_corr_sorted = sorted(features_with_corr, key=lambda x: x[1], reverse=True)\n",
    "    df_new = df.copy(deep=True)\n",
    "    return df_new.drop([pair[0] for pair in features_with_corr_sorted[amt:]], axis=1)"
   ]
  },
  {
   "cell_type": "code",
   "execution_count": 9,
   "metadata": {},
   "outputs": [
    {
     "data": {
      "text/html": [
       "<div>\n",
       "<style scoped>\n",
       "    .dataframe tbody tr th:only-of-type {\n",
       "        vertical-align: middle;\n",
       "    }\n",
       "\n",
       "    .dataframe tbody tr th {\n",
       "        vertical-align: top;\n",
       "    }\n",
       "\n",
       "    .dataframe thead th {\n",
       "        text-align: right;\n",
       "    }\n",
       "</style>\n",
       "<table border=\"1\" class=\"dataframe\">\n",
       "  <thead>\n",
       "    <tr style=\"text-align: right;\">\n",
       "      <th></th>\n",
       "      <th>volatile acidity</th>\n",
       "      <th>chlorides</th>\n",
       "      <th>total sulfur dioxide</th>\n",
       "      <th>density</th>\n",
       "      <th>alcohol</th>\n",
       "      <th>quality</th>\n",
       "    </tr>\n",
       "  </thead>\n",
       "  <tbody>\n",
       "    <tr>\n",
       "      <th>count</th>\n",
       "      <td>4898.000000</td>\n",
       "      <td>4898.000000</td>\n",
       "      <td>4898.000000</td>\n",
       "      <td>4898.000000</td>\n",
       "      <td>4898.000000</td>\n",
       "      <td>4898.000000</td>\n",
       "    </tr>\n",
       "    <tr>\n",
       "      <th>mean</th>\n",
       "      <td>0.278241</td>\n",
       "      <td>0.045772</td>\n",
       "      <td>138.360657</td>\n",
       "      <td>0.994027</td>\n",
       "      <td>10.514267</td>\n",
       "      <td>5.877909</td>\n",
       "    </tr>\n",
       "    <tr>\n",
       "      <th>std</th>\n",
       "      <td>0.100795</td>\n",
       "      <td>0.021848</td>\n",
       "      <td>42.498065</td>\n",
       "      <td>0.002991</td>\n",
       "      <td>1.230621</td>\n",
       "      <td>0.885639</td>\n",
       "    </tr>\n",
       "    <tr>\n",
       "      <th>min</th>\n",
       "      <td>0.080000</td>\n",
       "      <td>0.009000</td>\n",
       "      <td>9.000000</td>\n",
       "      <td>0.987110</td>\n",
       "      <td>8.000000</td>\n",
       "      <td>3.000000</td>\n",
       "    </tr>\n",
       "    <tr>\n",
       "      <th>25%</th>\n",
       "      <td>0.210000</td>\n",
       "      <td>0.036000</td>\n",
       "      <td>108.000000</td>\n",
       "      <td>0.991723</td>\n",
       "      <td>9.500000</td>\n",
       "      <td>5.000000</td>\n",
       "    </tr>\n",
       "    <tr>\n",
       "      <th>50%</th>\n",
       "      <td>0.260000</td>\n",
       "      <td>0.043000</td>\n",
       "      <td>134.000000</td>\n",
       "      <td>0.993740</td>\n",
       "      <td>10.400000</td>\n",
       "      <td>6.000000</td>\n",
       "    </tr>\n",
       "    <tr>\n",
       "      <th>75%</th>\n",
       "      <td>0.320000</td>\n",
       "      <td>0.050000</td>\n",
       "      <td>167.000000</td>\n",
       "      <td>0.996100</td>\n",
       "      <td>11.400000</td>\n",
       "      <td>6.000000</td>\n",
       "    </tr>\n",
       "    <tr>\n",
       "      <th>max</th>\n",
       "      <td>1.100000</td>\n",
       "      <td>0.346000</td>\n",
       "      <td>440.000000</td>\n",
       "      <td>1.038980</td>\n",
       "      <td>14.200000</td>\n",
       "      <td>9.000000</td>\n",
       "    </tr>\n",
       "  </tbody>\n",
       "</table>\n",
       "</div>"
      ],
      "text/plain": [
       "       volatile acidity    chlorides  total sulfur dioxide      density  \\\n",
       "count       4898.000000  4898.000000           4898.000000  4898.000000   \n",
       "mean           0.278241     0.045772            138.360657     0.994027   \n",
       "std            0.100795     0.021848             42.498065     0.002991   \n",
       "min            0.080000     0.009000              9.000000     0.987110   \n",
       "25%            0.210000     0.036000            108.000000     0.991723   \n",
       "50%            0.260000     0.043000            134.000000     0.993740   \n",
       "75%            0.320000     0.050000            167.000000     0.996100   \n",
       "max            1.100000     0.346000            440.000000     1.038980   \n",
       "\n",
       "           alcohol      quality  \n",
       "count  4898.000000  4898.000000  \n",
       "mean     10.514267     5.877909  \n",
       "std       1.230621     0.885639  \n",
       "min       8.000000     3.000000  \n",
       "25%       9.500000     5.000000  \n",
       "50%      10.400000     6.000000  \n",
       "75%      11.400000     6.000000  \n",
       "max      14.200000     9.000000  "
      ]
     },
     "execution_count": 9,
     "metadata": {},
     "output_type": "execute_result"
    }
   ],
   "source": [
    "#See dataframes after feature reduction\n",
    "features_white_feature_reduce = pipe_feature_reduce(df_white, \"quality\", amt=5)\n",
    "features_white_feature_reduce.describe()"
   ]
  },
  {
   "cell_type": "code",
   "execution_count": 10,
   "metadata": {},
   "outputs": [
    {
     "data": {
      "text/html": [
       "<div>\n",
       "<style scoped>\n",
       "    .dataframe tbody tr th:only-of-type {\n",
       "        vertical-align: middle;\n",
       "    }\n",
       "\n",
       "    .dataframe tbody tr th {\n",
       "        vertical-align: top;\n",
       "    }\n",
       "\n",
       "    .dataframe thead th {\n",
       "        text-align: right;\n",
       "    }\n",
       "</style>\n",
       "<table border=\"1\" class=\"dataframe\">\n",
       "  <thead>\n",
       "    <tr style=\"text-align: right;\">\n",
       "      <th></th>\n",
       "      <th>fixed acidity</th>\n",
       "      <th>volatile acidity</th>\n",
       "      <th>chlorides</th>\n",
       "      <th>total sulfur dioxide</th>\n",
       "      <th>sulphates</th>\n",
       "      <th>color</th>\n",
       "    </tr>\n",
       "  </thead>\n",
       "  <tbody>\n",
       "    <tr>\n",
       "      <th>count</th>\n",
       "      <td>6497.000000</td>\n",
       "      <td>6497.000000</td>\n",
       "      <td>6497.000000</td>\n",
       "      <td>6497.000000</td>\n",
       "      <td>6497.000000</td>\n",
       "      <td>6497.000000</td>\n",
       "    </tr>\n",
       "    <tr>\n",
       "      <th>mean</th>\n",
       "      <td>7.215307</td>\n",
       "      <td>0.339666</td>\n",
       "      <td>0.056034</td>\n",
       "      <td>115.744574</td>\n",
       "      <td>0.531268</td>\n",
       "      <td>0.753886</td>\n",
       "    </tr>\n",
       "    <tr>\n",
       "      <th>std</th>\n",
       "      <td>1.296434</td>\n",
       "      <td>0.164636</td>\n",
       "      <td>0.035034</td>\n",
       "      <td>56.521855</td>\n",
       "      <td>0.148806</td>\n",
       "      <td>0.430779</td>\n",
       "    </tr>\n",
       "    <tr>\n",
       "      <th>min</th>\n",
       "      <td>3.800000</td>\n",
       "      <td>0.080000</td>\n",
       "      <td>0.009000</td>\n",
       "      <td>6.000000</td>\n",
       "      <td>0.220000</td>\n",
       "      <td>0.000000</td>\n",
       "    </tr>\n",
       "    <tr>\n",
       "      <th>25%</th>\n",
       "      <td>6.400000</td>\n",
       "      <td>0.230000</td>\n",
       "      <td>0.038000</td>\n",
       "      <td>77.000000</td>\n",
       "      <td>0.430000</td>\n",
       "      <td>1.000000</td>\n",
       "    </tr>\n",
       "    <tr>\n",
       "      <th>50%</th>\n",
       "      <td>7.000000</td>\n",
       "      <td>0.290000</td>\n",
       "      <td>0.047000</td>\n",
       "      <td>118.000000</td>\n",
       "      <td>0.510000</td>\n",
       "      <td>1.000000</td>\n",
       "    </tr>\n",
       "    <tr>\n",
       "      <th>75%</th>\n",
       "      <td>7.700000</td>\n",
       "      <td>0.400000</td>\n",
       "      <td>0.065000</td>\n",
       "      <td>156.000000</td>\n",
       "      <td>0.600000</td>\n",
       "      <td>1.000000</td>\n",
       "    </tr>\n",
       "    <tr>\n",
       "      <th>max</th>\n",
       "      <td>15.900000</td>\n",
       "      <td>1.580000</td>\n",
       "      <td>0.611000</td>\n",
       "      <td>440.000000</td>\n",
       "      <td>2.000000</td>\n",
       "      <td>1.000000</td>\n",
       "    </tr>\n",
       "  </tbody>\n",
       "</table>\n",
       "</div>"
      ],
      "text/plain": [
       "       fixed acidity  volatile acidity    chlorides  total sulfur dioxide  \\\n",
       "count    6497.000000       6497.000000  6497.000000           6497.000000   \n",
       "mean        7.215307          0.339666     0.056034            115.744574   \n",
       "std         1.296434          0.164636     0.035034             56.521855   \n",
       "min         3.800000          0.080000     0.009000              6.000000   \n",
       "25%         6.400000          0.230000     0.038000             77.000000   \n",
       "50%         7.000000          0.290000     0.047000            118.000000   \n",
       "75%         7.700000          0.400000     0.065000            156.000000   \n",
       "max        15.900000          1.580000     0.611000            440.000000   \n",
       "\n",
       "         sulphates        color  \n",
       "count  6497.000000  6497.000000  \n",
       "mean      0.531268     0.753886  \n",
       "std       0.148806     0.430779  \n",
       "min       0.220000     0.000000  \n",
       "25%       0.430000     1.000000  \n",
       "50%       0.510000     1.000000  \n",
       "75%       0.600000     1.000000  \n",
       "max       2.000000     1.000000  "
      ]
     },
     "execution_count": 10,
     "metadata": {},
     "output_type": "execute_result"
    }
   ],
   "source": [
    "#See dataframes after feature reduction\n",
    "features_all_feature_reduce = pipe_feature_reduce(df_all, \"color\", amt=5)\n",
    "features_all_feature_reduce.describe()"
   ]
  },
  {
   "cell_type": "markdown",
   "metadata": {},
   "source": [
    "#### Exploration of sample reduction"
   ]
  },
  {
   "cell_type": "code",
   "execution_count": 11,
   "metadata": {},
   "outputs": [],
   "source": [
    "#Function to return a dataframe with outliers removed\n",
    "def pipe_sample_reduce(df, factor=1.5):\n",
    "    \"\"\"\n",
    "    returns a new dataframe that has any samples removed where any value in the sample was\n",
    "    outside the range of [Q1 - factor * IQR, Q3 + factor * IQR]\"\"\"\n",
    "    df_new = df.copy(deep=True)\n",
    "    non_target_columns = df_new.iloc[:, :-1]\n",
    "    Q1 = non_target_columns.quantile(0.25)\n",
    "    Q3 = non_target_columns.quantile(0.75)\n",
    "    IQR = Q3 - Q1\n",
    "    return df_new[~((non_target_columns < (Q1 - factor * IQR)) | (non_target_columns > (Q3 + factor * IQR))).any(axis=1)]"
   ]
  },
  {
   "cell_type": "code",
   "execution_count": 12,
   "metadata": {},
   "outputs": [
    {
     "name": "stdout",
     "output_type": "stream",
     "text": [
      "6497\n",
      "5024\n"
     ]
    }
   ],
   "source": [
    "#See difference in length of new dataframe to see how many outliers were removed\n",
    "print(len(df_all))\n",
    "print(len(pipe_sample_reduce(df_all, factor=1.5)))"
   ]
  },
  {
   "cell_type": "code",
   "execution_count": 13,
   "metadata": {},
   "outputs": [
    {
     "name": "stdout",
     "output_type": "stream",
     "text": [
      "4898\n",
      "4015\n"
     ]
    }
   ],
   "source": [
    "#See difference in length of new dataframe to see how many outliers were removed\n",
    "print(len(df_white))\n",
    "print(len(pipe_sample_reduce(df_white, factor=1.5)))"
   ]
  },
  {
   "cell_type": "markdown",
   "metadata": {},
   "source": [
    "#### Linear Regression - Create layered optimization\n",
    "\n",
    "Since there are no hyperparams for linear regression, they will not be present."
   ]
  },
  {
   "cell_type": "code",
   "execution_count": 14,
   "metadata": {},
   "outputs": [
    {
     "name": "stdout",
     "output_type": "stream",
     "text": [
      "normalized? False, features used: 1, sample reduce? False, MAPE: 12.417\n",
      "normalized? False, features used: 1, sample reduce? True, MAPE: 12.417\n",
      "normalized? False, features used: 2, sample reduce? False, MAPE: 12.422\n",
      "normalized? False, features used: 2, sample reduce? True, MAPE: 12.422\n",
      "normalized? False, features used: 3, sample reduce? False, MAPE: 13.251\n",
      "normalized? False, features used: 3, sample reduce? True, MAPE: 19.545\n",
      "normalized? False, features used: 4, sample reduce? False, MAPE: 3990.602\n",
      "normalized? False, features used: 4, sample reduce? True, MAPE: 10920.327\n",
      "normalized? False, features used: 5, sample reduce? False, MAPE: 11.907\n",
      "normalized? False, features used: 5, sample reduce? True, MAPE: 11.930\n",
      "normalized? False, features used: 6, sample reduce? False, MAPE: 11.840\n",
      "normalized? False, features used: 6, sample reduce? True, MAPE: 11.879\n",
      "normalized? False, features used: 7, sample reduce? False, MAPE: 5277.628\n",
      "normalized? False, features used: 7, sample reduce? True, MAPE: 10298.492\n",
      "normalized? False, features used: 8, sample reduce? False, MAPE: 11.655\n",
      "normalized? False, features used: 8, sample reduce? True, MAPE: 11.689\n",
      "normalized? False, features used: 9, sample reduce? False, MAPE: 11.564\n",
      "normalized? False, features used: 9, sample reduce? True, MAPE: 11.599\n",
      "normalized? False, features used: 10, sample reduce? False, MAPE: 11.565\n",
      "normalized? False, features used: 10, sample reduce? True, MAPE: 11.619\n",
      "normalized? False, features used: 11, sample reduce? False, MAPE: 11.566\n",
      "normalized? False, features used: 11, sample reduce? True, MAPE: 11.668\n",
      "normalized? True, features used: 1, sample reduce? False, MAPE: 127.704\n",
      "normalized? True, features used: 1, sample reduce? True, MAPE: 127.704\n",
      "normalized? True, features used: 2, sample reduce? False, MAPE: 130.047\n",
      "normalized? True, features used: 2, sample reduce? True, MAPE: 130.058\n",
      "normalized? True, features used: 3, sample reduce? False, MAPE: 122.744\n",
      "normalized? True, features used: 3, sample reduce? True, MAPE: 120.194\n",
      "normalized? True, features used: 4, sample reduce? False, MAPE: 125.811\n",
      "normalized? True, features used: 4, sample reduce? True, MAPE: 130.415\n",
      "normalized? True, features used: 5, sample reduce? False, MAPE: 126.153\n",
      "normalized? True, features used: 5, sample reduce? True, MAPE: 131.229\n",
      "normalized? True, features used: 6, sample reduce? False, MAPE: 127.637\n",
      "normalized? True, features used: 6, sample reduce? True, MAPE: 131.811\n",
      "normalized? True, features used: 7, sample reduce? False, MAPE: 127.226\n",
      "normalized? True, features used: 7, sample reduce? True, MAPE: 129.668\n",
      "normalized? True, features used: 8, sample reduce? False, MAPE: 123.330\n",
      "normalized? True, features used: 8, sample reduce? True, MAPE: 126.177\n",
      "normalized? True, features used: 9, sample reduce? False, MAPE: 121.597\n",
      "normalized? True, features used: 9, sample reduce? True, MAPE: 124.636\n",
      "normalized? True, features used: 10, sample reduce? False, MAPE: 122.104\n",
      "normalized? True, features used: 10, sample reduce? True, MAPE: 124.680\n",
      "normalized? True, features used: 11, sample reduce? False, MAPE: 122.117\n",
      "normalized? True, features used: 11, sample reduce? True, MAPE: 123.706\n"
     ]
    }
   ],
   "source": [
    "from sklearn.linear_model import LinearRegression\n",
    "from sklearn.metrics import mean_absolute_percentage_error\n",
    "from sklearn.model_selection import train_test_split\n",
    "\n",
    "#Create dataframe to store results for further analysis\n",
    "df_reg_results_types = {\n",
    "    \"Normalized\"    :   \"bool\",\n",
    "    \"FeatureAmt\"    :   \"int\",\n",
    "    \"SampleReduce\"  :   \"bool\",\n",
    "    \"MAPE\"          :   \"float\",\n",
    "}\n",
    "df_reg_results = pd.DataFrame(columns=df_reg_results_types.keys()).astype(df_reg_results_types)\n",
    "\n",
    "#Create the nested loops of optimization\n",
    "for is_norm in [False, True]:\n",
    "    for feature_amt in [amt for amt in range(1, len(df_white.columns))]:#Will test every feature subset from the 1 sole top feature to using every feature\n",
    "        for is_sample_reduce in [False, True]:\n",
    "            df_curr = df_white.copy(deep=True)\n",
    "            train, test = train_test_split(df_curr, test_size=0.2, random_state=0) #Remember - also shuffles\n",
    "            if is_norm:\n",
    "                train = pipe_normalize(train)\n",
    "                test = pipe_normalize(test)\n",
    "            train = pipe_feature_reduce(train, target_name=\"quality\", amt=feature_amt)\n",
    "            test = pipe_feature_reduce(test, target_name=\"quality\", amt=feature_amt)\n",
    "            if is_sample_reduce:\n",
    "                train = pipe_sample_reduce(train)\n",
    "                #No reduction from test-set\n",
    "            X_train = train.to_numpy()[:, 0:-1] #Features\n",
    "            y_train = train.to_numpy()[:, -1] #Target\n",
    "            X_test = test.to_numpy()[:, 0:-1] #Features\n",
    "            y_test = test.to_numpy()[:, -1] #Target\n",
    "            LR_model = LinearRegression()\n",
    "            LR_model.fit(X_train, y_train)\n",
    "            y_pred = LR_model.predict(X_test)\n",
    "            mape = mean_absolute_percentage_error(y_test, y_pred) * 100\n",
    "            print(\"normalized? {0}, features used: {1}, sample reduce? {2}, MAPE: {3:.3f}\".format(is_norm, feature_amt, is_sample_reduce, mape))\n",
    "            df_reg_results.loc[len(df_reg_results.index)] = [is_norm, feature_amt, is_sample_reduce, mape] "
   ]
  },
  {
   "cell_type": "code",
   "execution_count": 15,
   "metadata": {},
   "outputs": [
    {
     "data": {
      "text/html": [
       "<div>\n",
       "<style scoped>\n",
       "    .dataframe tbody tr th:only-of-type {\n",
       "        vertical-align: middle;\n",
       "    }\n",
       "\n",
       "    .dataframe tbody tr th {\n",
       "        vertical-align: top;\n",
       "    }\n",
       "\n",
       "    .dataframe thead th {\n",
       "        text-align: right;\n",
       "    }\n",
       "</style>\n",
       "<table border=\"1\" class=\"dataframe\">\n",
       "  <thead>\n",
       "    <tr style=\"text-align: right;\">\n",
       "      <th></th>\n",
       "      <th>Normalized</th>\n",
       "      <th>FeatureAmt</th>\n",
       "      <th>SampleReduce</th>\n",
       "      <th>MAPE</th>\n",
       "    </tr>\n",
       "  </thead>\n",
       "  <tbody>\n",
       "    <tr>\n",
       "      <th>0</th>\n",
       "      <td>False</td>\n",
       "      <td>1</td>\n",
       "      <td>False</td>\n",
       "      <td>12.417414</td>\n",
       "    </tr>\n",
       "    <tr>\n",
       "      <th>1</th>\n",
       "      <td>False</td>\n",
       "      <td>1</td>\n",
       "      <td>True</td>\n",
       "      <td>12.417414</td>\n",
       "    </tr>\n",
       "    <tr>\n",
       "      <th>2</th>\n",
       "      <td>False</td>\n",
       "      <td>2</td>\n",
       "      <td>False</td>\n",
       "      <td>12.421797</td>\n",
       "    </tr>\n",
       "    <tr>\n",
       "      <th>3</th>\n",
       "      <td>False</td>\n",
       "      <td>2</td>\n",
       "      <td>True</td>\n",
       "      <td>12.421588</td>\n",
       "    </tr>\n",
       "    <tr>\n",
       "      <th>4</th>\n",
       "      <td>False</td>\n",
       "      <td>3</td>\n",
       "      <td>False</td>\n",
       "      <td>13.250574</td>\n",
       "    </tr>\n",
       "  </tbody>\n",
       "</table>\n",
       "</div>"
      ],
      "text/plain": [
       "   Normalized  FeatureAmt  SampleReduce       MAPE\n",
       "0       False           1         False  12.417414\n",
       "1       False           1          True  12.417414\n",
       "2       False           2         False  12.421797\n",
       "3       False           2          True  12.421588\n",
       "4       False           3         False  13.250574"
      ]
     },
     "execution_count": 15,
     "metadata": {},
     "output_type": "execute_result"
    }
   ],
   "source": [
    "#See the results dataframe\n",
    "df_reg_results.head()"
   ]
  },
  {
   "cell_type": "code",
   "execution_count": 53,
   "metadata": {},
   "outputs": [
    {
     "data": {
      "text/plain": [
       "Normalized         False\n",
       "FeatureAmt             9\n",
       "SampleReduce       False\n",
       "MAPE            11.56395\n",
       "Name: 16, dtype: object"
      ]
     },
     "execution_count": 53,
     "metadata": {},
     "output_type": "execute_result"
    }
   ],
   "source": [
    "#Print best result found for the linear model\n",
    "df_reg_results.loc[df_reg_results[\"MAPE\"].idxmin()]"
   ]
  },
  {
   "cell_type": "code",
   "execution_count": 50,
   "metadata": {},
   "outputs": [
    {
     "data": {
      "image/png": "[encoded data removed]",
      "text/plain": [
       "<Figure size 800x1200 with 3 Axes>"
      ]
     },
     "metadata": {},
     "output_type": "display_data"
    }
   ],
   "source": [
    "#Plot performance across the changes in pipeline steps.\n",
    "#Normalization\n",
    "normalization_bool_vals = [False, True]\n",
    "normalization_mapes_mean = [df_reg_results[df_reg_results[\"Normalized\"] == val][\"MAPE\"].mean() for val in normalization_bool_vals]\n",
    "normalization_mapes_med = [df_reg_results[df_reg_results[\"Normalized\"] == val][\"MAPE\"].median() for val in normalization_bool_vals]\n",
    "\n",
    "#Feature reduction\n",
    "feature_amt_vals = [val for val in range(1, len(df_white.columns))]\n",
    "feature_amt_mapes_mean = [df_reg_results[df_reg_results[\"FeatureAmt\"] == val][\"MAPE\"].mean() for val in feature_amt_vals]\n",
    "feature_amt_mapes_med = [df_reg_results[df_reg_results[\"FeatureAmt\"] == val][\"MAPE\"].median() for val in feature_amt_vals]\n",
    "\n",
    "#Outlier removal from feature_amt_mapes_mean so values of interest are not squashed on the graph\n",
    "outlier_threshold = 5\n",
    "mape_min = min(feature_amt_mapes_mean)\n",
    "feature_amt_mapes_mean = [(None if val > outlier_threshold * mape_min else val) for val in feature_amt_mapes_mean]\n",
    "mape_min = min(feature_amt_mapes_med)\n",
    "feature_amt_mapes_med = [(None if val > outlier_threshold * mape_min else val) for val in feature_amt_mapes_med]\n",
    "\n",
    "#Sample reduction (outlier removal)\n",
    "sample_bool_vals = [False, True]\n",
    "sample_mapes_mean = [df_reg_results[df_reg_results[\"SampleReduce\"] == val][\"MAPE\"].mean() for val in sample_bool_vals]\n",
    "sample_mapes_med = [df_reg_results[df_reg_results[\"SampleReduce\"] == val][\"MAPE\"].median() for val in sample_bool_vals]\n",
    "\n",
    "fig, axs = plt.subplots(3, 1, figsize=(8,12))\n",
    "\n",
    "bar_width = 0.4\n",
    "axs[0].bar(np.array([0 if val == False else 1 for val in normalization_bool_vals]), normalization_mapes_mean, width=bar_width, label=\"mean\")\n",
    "axs[0].bar(np.array([0 if val == False else 1 for val in normalization_bool_vals]) + bar_width, normalization_mapes_med, width=bar_width, label=\"median\")\n",
    "axs[0].set_xticks(normalization_bool_vals, [\"False\" if val == False else \"True\" for val in normalization_bool_vals])\n",
    "axs[0].set_title(\"Error as values are normalized\")\n",
    "axs[0].set_xlabel(\"Normalization\")\n",
    "axs[0].legend()\n",
    "\n",
    "axs[1].plot(feature_amt_vals, feature_amt_mapes_mean, label=\"mean\")\n",
    "axs[1].plot(feature_amt_vals, feature_amt_mapes_med, label=\"median\")\n",
    "axs[1].set_xticks(feature_amt_vals)\n",
    "axs[1].set_title(\"Error as features are selected based on correlation with target,\\nextreme underperforming values omitted\")\n",
    "axs[1].set_xlabel(\"Amount of features\")\n",
    "axs[1].legend()\n",
    "\n",
    "axs[2].bar(np.array([0 if val == False else 1 for val in sample_bool_vals]), sample_mapes_mean, width=bar_width, label=\"mean\")\n",
    "axs[2].bar(np.array([0 if val == False else 1 for val in sample_bool_vals]) + bar_width, sample_mapes_med, width=bar_width, label=\"median\")\n",
    "axs[2].set_xticks(sample_bool_vals, [\"False\" if val == False else \"True\" for val in normalization_bool_vals])\n",
    "axs[2].set_title(\"Error as outliers are removed from the data\")\n",
    "axs[2].set_xlabel(\"Outlier removal\")\n",
    "axs[2].legend()\n",
    "\n",
    "for ax in range(3):\n",
    "    axs[ax].set_ylabel(\"MAPE\", rotation=0, labelpad=20)\n",
    "\n",
    "plt.tight_layout()\n",
    "\n",
    "plt.savefig(\"regression_performance\")"
   ]
  },
  {
   "cell_type": "markdown",
   "metadata": {},
   "source": [
    "#### Decision Tree Classification - Create layered optimization\n",
    "\n",
    "This will tune hyperparameters at the same time, and make use of nested resampling"
   ]
  },
  {
   "cell_type": "code",
   "execution_count": 19,
   "metadata": {},
   "outputs": [
    {
     "name": "stdout",
     "output_type": "stream",
     "text": [
      "normalized? False, features used: 1, sample reduce? False, tree max depth: 34, tree mss: 950, tree acc: 0.925, forest max depth 1, forest mss: 2, forest acc: 0.925,\n",
      "normalized? False, features used: 1, sample reduce? True, tree max depth: 34, tree mss: 950, tree acc: 0.926, forest max depth 1, forest mss: 2, forest acc: 0.926,\n",
      "normalized? False, features used: 2, sample reduce? False, tree max depth: 64, tree mss: 545, tree acc: 0.939, forest max depth 63, forest mss: 43, forest acc: 0.944,\n"
     ]
    },
    {
     "name": "stderr",
     "output_type": "stream",
     "text": [
      "C:\\Users\\micha\\AppData\\Roaming\\Python\\Python311\\site-packages\\skopt\\optimizer\\optimizer.py:449: UserWarning: The objective has been evaluated at this point before.\n",
      "  warnings.warn(\"The objective has been evaluated \"\n",
      "C:\\Users\\micha\\AppData\\Roaming\\Python\\Python311\\site-packages\\skopt\\optimizer\\optimizer.py:449: UserWarning: The objective has been evaluated at this point before.\n",
      "  warnings.warn(\"The objective has been evaluated \"\n"
     ]
    },
    {
     "name": "stdout",
     "output_type": "stream",
     "text": [
      "normalized? False, features used: 2, sample reduce? True, tree max depth: 34, tree mss: 950, tree acc: 0.935, forest max depth 48, forest mss: 5, forest acc: 0.951,\n"
     ]
    },
    {
     "name": "stderr",
     "output_type": "stream",
     "text": [
      "C:\\Users\\micha\\AppData\\Roaming\\Python\\Python311\\site-packages\\skopt\\optimizer\\optimizer.py:449: UserWarning: The objective has been evaluated at this point before.\n",
      "  warnings.warn(\"The objective has been evaluated \"\n",
      "C:\\Users\\micha\\AppData\\Roaming\\Python\\Python311\\site-packages\\skopt\\optimizer\\optimizer.py:449: UserWarning: The objective has been evaluated at this point before.\n",
      "  warnings.warn(\"The objective has been evaluated \"\n",
      "C:\\Users\\micha\\AppData\\Roaming\\Python\\Python311\\site-packages\\skopt\\optimizer\\optimizer.py:449: UserWarning: The objective has been evaluated at this point before.\n",
      "  warnings.warn(\"The objective has been evaluated \"\n",
      "C:\\Users\\micha\\AppData\\Roaming\\Python\\Python311\\site-packages\\skopt\\optimizer\\optimizer.py:449: UserWarning: The objective has been evaluated at this point before.\n",
      "  warnings.warn(\"The objective has been evaluated \"\n"
     ]
    },
    {
     "name": "stdout",
     "output_type": "stream",
     "text": [
      "normalized? False, features used: 3, sample reduce? False, tree max depth: 64, tree mss: 2, tree acc: 0.977, forest max depth 64, forest mss: 2, forest acc: 0.950,\n",
      "normalized? False, features used: 3, sample reduce? True, tree max depth: 64, tree mss: 15, tree acc: 0.975, forest max depth 60, forest mss: 294, forest acc: 0.986,\n"
     ]
    },
    {
     "name": "stderr",
     "output_type": "stream",
     "text": [
      "C:\\Users\\micha\\AppData\\Roaming\\Python\\Python311\\site-packages\\skopt\\optimizer\\optimizer.py:449: UserWarning: The objective has been evaluated at this point before.\n",
      "  warnings.warn(\"The objective has been evaluated \"\n",
      "C:\\Users\\micha\\AppData\\Roaming\\Python\\Python311\\site-packages\\skopt\\optimizer\\optimizer.py:449: UserWarning: The objective has been evaluated at this point before.\n",
      "  warnings.warn(\"The objective has been evaluated \"\n",
      "C:\\Users\\micha\\AppData\\Roaming\\Python\\Python311\\site-packages\\skopt\\optimizer\\optimizer.py:449: UserWarning: The objective has been evaluated at this point before.\n",
      "  warnings.warn(\"The objective has been evaluated \"\n",
      "C:\\Users\\micha\\AppData\\Roaming\\Python\\Python311\\site-packages\\skopt\\optimizer\\optimizer.py:449: UserWarning: The objective has been evaluated at this point before.\n",
      "  warnings.warn(\"The objective has been evaluated \"\n",
      "C:\\Users\\micha\\AppData\\Roaming\\Python\\Python311\\site-packages\\skopt\\optimizer\\optimizer.py:449: UserWarning: The objective has been evaluated at this point before.\n",
      "  warnings.warn(\"The objective has been evaluated \"\n",
      "C:\\Users\\micha\\AppData\\Roaming\\Python\\Python311\\site-packages\\skopt\\optimizer\\optimizer.py:449: UserWarning: The objective has been evaluated at this point before.\n",
      "  warnings.warn(\"The objective has been evaluated \"\n",
      "C:\\Users\\micha\\AppData\\Roaming\\Python\\Python311\\site-packages\\skopt\\optimizer\\optimizer.py:449: UserWarning: The objective has been evaluated at this point before.\n",
      "  warnings.warn(\"The objective has been evaluated \"\n"
     ]
    },
    {
     "name": "stdout",
     "output_type": "stream",
     "text": [
      "normalized? False, features used: 4, sample reduce? False, tree max depth: 64, tree mss: 2, tree acc: 0.983, forest max depth 64, forest mss: 15, forest acc: 0.988,\n"
     ]
    },
    {
     "name": "stderr",
     "output_type": "stream",
     "text": [
      "C:\\Users\\micha\\AppData\\Roaming\\Python\\Python311\\site-packages\\skopt\\optimizer\\optimizer.py:449: UserWarning: The objective has been evaluated at this point before.\n",
      "  warnings.warn(\"The objective has been evaluated \"\n",
      "C:\\Users\\micha\\AppData\\Roaming\\Python\\Python311\\site-packages\\skopt\\optimizer\\optimizer.py:449: UserWarning: The objective has been evaluated at this point before.\n",
      "  warnings.warn(\"The objective has been evaluated \"\n",
      "C:\\Users\\micha\\AppData\\Roaming\\Python\\Python311\\site-packages\\skopt\\optimizer\\optimizer.py:449: UserWarning: The objective has been evaluated at this point before.\n",
      "  warnings.warn(\"The objective has been evaluated \"\n",
      "C:\\Users\\micha\\AppData\\Roaming\\Python\\Python311\\site-packages\\skopt\\optimizer\\optimizer.py:449: UserWarning: The objective has been evaluated at this point before.\n",
      "  warnings.warn(\"The objective has been evaluated \"\n"
     ]
    },
    {
     "name": "stdout",
     "output_type": "stream",
     "text": [
      "normalized? False, features used: 4, sample reduce? True, tree max depth: 55, tree mss: 2, tree acc: 0.984, forest max depth 64, forest mss: 2, forest acc: 0.991,\n"
     ]
    },
    {
     "name": "stderr",
     "output_type": "stream",
     "text": [
      "C:\\Users\\micha\\AppData\\Roaming\\Python\\Python311\\site-packages\\skopt\\optimizer\\optimizer.py:449: UserWarning: The objective has been evaluated at this point before.\n",
      "  warnings.warn(\"The objective has been evaluated \"\n",
      "C:\\Users\\micha\\AppData\\Roaming\\Python\\Python311\\site-packages\\skopt\\optimizer\\optimizer.py:449: UserWarning: The objective has been evaluated at this point before.\n",
      "  warnings.warn(\"The objective has been evaluated \"\n",
      "C:\\Users\\micha\\AppData\\Roaming\\Python\\Python311\\site-packages\\skopt\\optimizer\\optimizer.py:449: UserWarning: The objective has been evaluated at this point before.\n",
      "  warnings.warn(\"The objective has been evaluated \"\n",
      "C:\\Users\\micha\\AppData\\Roaming\\Python\\Python311\\site-packages\\skopt\\optimizer\\optimizer.py:449: UserWarning: The objective has been evaluated at this point before.\n",
      "  warnings.warn(\"The objective has been evaluated \"\n",
      "C:\\Users\\micha\\AppData\\Roaming\\Python\\Python311\\site-packages\\skopt\\optimizer\\optimizer.py:449: UserWarning: The objective has been evaluated at this point before.\n",
      "  warnings.warn(\"The objective has been evaluated \"\n",
      "C:\\Users\\micha\\AppData\\Roaming\\Python\\Python311\\site-packages\\skopt\\optimizer\\optimizer.py:449: UserWarning: The objective has been evaluated at this point before.\n",
      "  warnings.warn(\"The objective has been evaluated \"\n",
      "C:\\Users\\micha\\AppData\\Roaming\\Python\\Python311\\site-packages\\skopt\\optimizer\\optimizer.py:449: UserWarning: The objective has been evaluated at this point before.\n",
      "  warnings.warn(\"The objective has been evaluated \"\n",
      "C:\\Users\\micha\\AppData\\Roaming\\Python\\Python311\\site-packages\\skopt\\optimizer\\optimizer.py:449: UserWarning: The objective has been evaluated at this point before.\n",
      "  warnings.warn(\"The objective has been evaluated \"\n"
     ]
    },
    {
     "name": "stdout",
     "output_type": "stream",
     "text": [
      "normalized? False, features used: 5, sample reduce? False, tree max depth: 64, tree mss: 2, tree acc: 0.980, forest max depth 64, forest mss: 2, forest acc: 0.989,\n"
     ]
    },
    {
     "name": "stderr",
     "output_type": "stream",
     "text": [
      "C:\\Users\\micha\\AppData\\Roaming\\Python\\Python311\\site-packages\\skopt\\optimizer\\optimizer.py:449: UserWarning: The objective has been evaluated at this point before.\n",
      "  warnings.warn(\"The objective has been evaluated \"\n",
      "C:\\Users\\micha\\AppData\\Roaming\\Python\\Python311\\site-packages\\skopt\\optimizer\\optimizer.py:449: UserWarning: The objective has been evaluated at this point before.\n",
      "  warnings.warn(\"The objective has been evaluated \"\n",
      "C:\\Users\\micha\\AppData\\Roaming\\Python\\Python311\\site-packages\\skopt\\optimizer\\optimizer.py:449: UserWarning: The objective has been evaluated at this point before.\n",
      "  warnings.warn(\"The objective has been evaluated \"\n",
      "C:\\Users\\micha\\AppData\\Roaming\\Python\\Python311\\site-packages\\skopt\\optimizer\\optimizer.py:449: UserWarning: The objective has been evaluated at this point before.\n",
      "  warnings.warn(\"The objective has been evaluated \"\n"
     ]
    },
    {
     "name": "stdout",
     "output_type": "stream",
     "text": [
      "normalized? False, features used: 5, sample reduce? True, tree max depth: 64, tree mss: 2, tree acc: 0.981, forest max depth 64, forest mss: 2, forest acc: 0.991,\n"
     ]
    },
    {
     "name": "stderr",
     "output_type": "stream",
     "text": [
      "C:\\Users\\micha\\AppData\\Roaming\\Python\\Python311\\site-packages\\skopt\\optimizer\\optimizer.py:449: UserWarning: The objective has been evaluated at this point before.\n",
      "  warnings.warn(\"The objective has been evaluated \"\n",
      "C:\\Users\\micha\\AppData\\Roaming\\Python\\Python311\\site-packages\\skopt\\optimizer\\optimizer.py:449: UserWarning: The objective has been evaluated at this point before.\n",
      "  warnings.warn(\"The objective has been evaluated \"\n",
      "C:\\Users\\micha\\AppData\\Roaming\\Python\\Python311\\site-packages\\skopt\\optimizer\\optimizer.py:449: UserWarning: The objective has been evaluated at this point before.\n",
      "  warnings.warn(\"The objective has been evaluated \"\n",
      "C:\\Users\\micha\\AppData\\Roaming\\Python\\Python311\\site-packages\\skopt\\optimizer\\optimizer.py:449: UserWarning: The objective has been evaluated at this point before.\n",
      "  warnings.warn(\"The objective has been evaluated \"\n",
      "C:\\Users\\micha\\AppData\\Roaming\\Python\\Python311\\site-packages\\skopt\\optimizer\\optimizer.py:449: UserWarning: The objective has been evaluated at this point before.\n",
      "  warnings.warn(\"The objective has been evaluated \"\n",
      "C:\\Users\\micha\\AppData\\Roaming\\Python\\Python311\\site-packages\\skopt\\optimizer\\optimizer.py:449: UserWarning: The objective has been evaluated at this point before.\n",
      "  warnings.warn(\"The objective has been evaluated \"\n"
     ]
    },
    {
     "name": "stdout",
     "output_type": "stream",
     "text": [
      "normalized? False, features used: 6, sample reduce? False, tree max depth: 64, tree mss: 2, tree acc: 0.982, forest max depth 64, forest mss: 418, forest acc: 0.990,\n"
     ]
    },
    {
     "name": "stderr",
     "output_type": "stream",
     "text": [
      "C:\\Users\\micha\\AppData\\Roaming\\Python\\Python311\\site-packages\\skopt\\optimizer\\optimizer.py:449: UserWarning: The objective has been evaluated at this point before.\n",
      "  warnings.warn(\"The objective has been evaluated \"\n",
      "C:\\Users\\micha\\AppData\\Roaming\\Python\\Python311\\site-packages\\skopt\\optimizer\\optimizer.py:449: UserWarning: The objective has been evaluated at this point before.\n",
      "  warnings.warn(\"The objective has been evaluated \"\n",
      "C:\\Users\\micha\\AppData\\Roaming\\Python\\Python311\\site-packages\\skopt\\optimizer\\optimizer.py:449: UserWarning: The objective has been evaluated at this point before.\n",
      "  warnings.warn(\"The objective has been evaluated \"\n"
     ]
    },
    {
     "name": "stdout",
     "output_type": "stream",
     "text": [
      "normalized? False, features used: 6, sample reduce? True, tree max depth: 64, tree mss: 2, tree acc: 0.969, forest max depth 2, forest mss: 420, forest acc: 0.992,\n"
     ]
    },
    {
     "name": "stderr",
     "output_type": "stream",
     "text": [
      "C:\\Users\\micha\\AppData\\Roaming\\Python\\Python311\\site-packages\\skopt\\optimizer\\optimizer.py:449: UserWarning: The objective has been evaluated at this point before.\n",
      "  warnings.warn(\"The objective has been evaluated \"\n",
      "C:\\Users\\micha\\AppData\\Roaming\\Python\\Python311\\site-packages\\skopt\\optimizer\\optimizer.py:449: UserWarning: The objective has been evaluated at this point before.\n",
      "  warnings.warn(\"The objective has been evaluated \"\n",
      "C:\\Users\\micha\\AppData\\Roaming\\Python\\Python311\\site-packages\\skopt\\optimizer\\optimizer.py:449: UserWarning: The objective has been evaluated at this point before.\n",
      "  warnings.warn(\"The objective has been evaluated \"\n",
      "C:\\Users\\micha\\AppData\\Roaming\\Python\\Python311\\site-packages\\skopt\\optimizer\\optimizer.py:449: UserWarning: The objective has been evaluated at this point before.\n",
      "  warnings.warn(\"The objective has been evaluated \"\n",
      "C:\\Users\\micha\\AppData\\Roaming\\Python\\Python311\\site-packages\\skopt\\optimizer\\optimizer.py:449: UserWarning: The objective has been evaluated at this point before.\n",
      "  warnings.warn(\"The objective has been evaluated \"\n",
      "C:\\Users\\micha\\AppData\\Roaming\\Python\\Python311\\site-packages\\skopt\\optimizer\\optimizer.py:449: UserWarning: The objective has been evaluated at this point before.\n",
      "  warnings.warn(\"The objective has been evaluated \"\n"
     ]
    },
    {
     "name": "stdout",
     "output_type": "stream",
     "text": [
      "normalized? False, features used: 7, sample reduce? False, tree max depth: 64, tree mss: 2, tree acc: 0.981, forest max depth 64, forest mss: 2, forest acc: 0.991,\n",
      "normalized? False, features used: 7, sample reduce? True, tree max depth: 34, tree mss: 950, tree acc: 0.970, forest max depth 64, forest mss: 2, forest acc: 0.992,\n"
     ]
    },
    {
     "name": "stderr",
     "output_type": "stream",
     "text": [
      "C:\\Users\\micha\\AppData\\Roaming\\Python\\Python311\\site-packages\\skopt\\optimizer\\optimizer.py:449: UserWarning: The objective has been evaluated at this point before.\n",
      "  warnings.warn(\"The objective has been evaluated \"\n",
      "C:\\Users\\micha\\AppData\\Roaming\\Python\\Python311\\site-packages\\skopt\\optimizer\\optimizer.py:449: UserWarning: The objective has been evaluated at this point before.\n",
      "  warnings.warn(\"The objective has been evaluated \"\n",
      "C:\\Users\\micha\\AppData\\Roaming\\Python\\Python311\\site-packages\\skopt\\optimizer\\optimizer.py:449: UserWarning: The objective has been evaluated at this point before.\n",
      "  warnings.warn(\"The objective has been evaluated \"\n",
      "C:\\Users\\micha\\AppData\\Roaming\\Python\\Python311\\site-packages\\skopt\\optimizer\\optimizer.py:449: UserWarning: The objective has been evaluated at this point before.\n",
      "  warnings.warn(\"The objective has been evaluated \"\n"
     ]
    },
    {
     "name": "stdout",
     "output_type": "stream",
     "text": [
      "normalized? False, features used: 8, sample reduce? False, tree max depth: 64, tree mss: 2, tree acc: 0.983, forest max depth 51, forest mss: 2, forest acc: 0.992,\n"
     ]
    },
    {
     "name": "stderr",
     "output_type": "stream",
     "text": [
      "C:\\Users\\micha\\AppData\\Roaming\\Python\\Python311\\site-packages\\skopt\\optimizer\\optimizer.py:449: UserWarning: The objective has been evaluated at this point before.\n",
      "  warnings.warn(\"The objective has been evaluated \"\n"
     ]
    },
    {
     "name": "stdout",
     "output_type": "stream",
     "text": [
      "normalized? False, features used: 8, sample reduce? True, tree max depth: 64, tree mss: 2, tree acc: 0.980, forest max depth 50, forest mss: 2, forest acc: 0.993,\n"
     ]
    },
    {
     "name": "stderr",
     "output_type": "stream",
     "text": [
      "C:\\Users\\micha\\AppData\\Roaming\\Python\\Python311\\site-packages\\skopt\\optimizer\\optimizer.py:449: UserWarning: The objective has been evaluated at this point before.\n",
      "  warnings.warn(\"The objective has been evaluated \"\n",
      "C:\\Users\\micha\\AppData\\Roaming\\Python\\Python311\\site-packages\\skopt\\optimizer\\optimizer.py:449: UserWarning: The objective has been evaluated at this point before.\n",
      "  warnings.warn(\"The objective has been evaluated \"\n",
      "C:\\Users\\micha\\AppData\\Roaming\\Python\\Python311\\site-packages\\skopt\\optimizer\\optimizer.py:449: UserWarning: The objective has been evaluated at this point before.\n",
      "  warnings.warn(\"The objective has been evaluated \"\n",
      "C:\\Users\\micha\\AppData\\Roaming\\Python\\Python311\\site-packages\\skopt\\optimizer\\optimizer.py:449: UserWarning: The objective has been evaluated at this point before.\n",
      "  warnings.warn(\"The objective has been evaluated \"\n",
      "C:\\Users\\micha\\AppData\\Roaming\\Python\\Python311\\site-packages\\skopt\\optimizer\\optimizer.py:449: UserWarning: The objective has been evaluated at this point before.\n",
      "  warnings.warn(\"The objective has been evaluated \"\n",
      "C:\\Users\\micha\\AppData\\Roaming\\Python\\Python311\\site-packages\\skopt\\optimizer\\optimizer.py:449: UserWarning: The objective has been evaluated at this point before.\n",
      "  warnings.warn(\"The objective has been evaluated \"\n"
     ]
    },
    {
     "name": "stdout",
     "output_type": "stream",
     "text": [
      "normalized? False, features used: 9, sample reduce? False, tree max depth: 45, tree mss: 33, tree acc: 0.984, forest max depth 64, forest mss: 2, forest acc: 0.994,\n"
     ]
    },
    {
     "name": "stderr",
     "output_type": "stream",
     "text": [
      "C:\\Users\\micha\\AppData\\Roaming\\Python\\Python311\\site-packages\\skopt\\optimizer\\optimizer.py:449: UserWarning: The objective has been evaluated at this point before.\n",
      "  warnings.warn(\"The objective has been evaluated \"\n"
     ]
    },
    {
     "name": "stdout",
     "output_type": "stream",
     "text": [
      "normalized? False, features used: 9, sample reduce? True, tree max depth: 51, tree mss: 2, tree acc: 0.986, forest max depth 64, forest mss: 2, forest acc: 0.995,\n"
     ]
    },
    {
     "name": "stderr",
     "output_type": "stream",
     "text": [
      "C:\\Users\\micha\\AppData\\Roaming\\Python\\Python311\\site-packages\\skopt\\optimizer\\optimizer.py:449: UserWarning: The objective has been evaluated at this point before.\n",
      "  warnings.warn(\"The objective has been evaluated \"\n",
      "C:\\Users\\micha\\AppData\\Roaming\\Python\\Python311\\site-packages\\skopt\\optimizer\\optimizer.py:449: UserWarning: The objective has been evaluated at this point before.\n",
      "  warnings.warn(\"The objective has been evaluated \"\n",
      "C:\\Users\\micha\\AppData\\Roaming\\Python\\Python311\\site-packages\\skopt\\optimizer\\optimizer.py:449: UserWarning: The objective has been evaluated at this point before.\n",
      "  warnings.warn(\"The objective has been evaluated \"\n",
      "C:\\Users\\micha\\AppData\\Roaming\\Python\\Python311\\site-packages\\skopt\\optimizer\\optimizer.py:449: UserWarning: The objective has been evaluated at this point before.\n",
      "  warnings.warn(\"The objective has been evaluated \"\n",
      "C:\\Users\\micha\\AppData\\Roaming\\Python\\Python311\\site-packages\\skopt\\optimizer\\optimizer.py:449: UserWarning: The objective has been evaluated at this point before.\n",
      "  warnings.warn(\"The objective has been evaluated \"\n",
      "C:\\Users\\micha\\AppData\\Roaming\\Python\\Python311\\site-packages\\skopt\\optimizer\\optimizer.py:449: UserWarning: The objective has been evaluated at this point before.\n",
      "  warnings.warn(\"The objective has been evaluated \"\n"
     ]
    },
    {
     "name": "stdout",
     "output_type": "stream",
     "text": [
      "normalized? False, features used: 10, sample reduce? False, tree max depth: 64, tree mss: 2, tree acc: 0.981, forest max depth 64, forest mss: 389, forest acc: 0.993,\n"
     ]
    },
    {
     "name": "stderr",
     "output_type": "stream",
     "text": [
      "C:\\Users\\micha\\AppData\\Roaming\\Python\\Python311\\site-packages\\skopt\\optimizer\\optimizer.py:449: UserWarning: The objective has been evaluated at this point before.\n",
      "  warnings.warn(\"The objective has been evaluated \"\n",
      "C:\\Users\\micha\\AppData\\Roaming\\Python\\Python311\\site-packages\\skopt\\optimizer\\optimizer.py:449: UserWarning: The objective has been evaluated at this point before.\n",
      "  warnings.warn(\"The objective has been evaluated \"\n",
      "C:\\Users\\micha\\AppData\\Roaming\\Python\\Python311\\site-packages\\skopt\\optimizer\\optimizer.py:449: UserWarning: The objective has been evaluated at this point before.\n",
      "  warnings.warn(\"The objective has been evaluated \"\n"
     ]
    },
    {
     "name": "stdout",
     "output_type": "stream",
     "text": [
      "normalized? False, features used: 10, sample reduce? True, tree max depth: 64, tree mss: 2, tree acc: 0.985, forest max depth 64, forest mss: 662, forest acc: 0.995,\n"
     ]
    },
    {
     "name": "stderr",
     "output_type": "stream",
     "text": [
      "C:\\Users\\micha\\AppData\\Roaming\\Python\\Python311\\site-packages\\skopt\\optimizer\\optimizer.py:449: UserWarning: The objective has been evaluated at this point before.\n",
      "  warnings.warn(\"The objective has been evaluated \"\n",
      "C:\\Users\\micha\\AppData\\Roaming\\Python\\Python311\\site-packages\\skopt\\optimizer\\optimizer.py:449: UserWarning: The objective has been evaluated at this point before.\n",
      "  warnings.warn(\"The objective has been evaluated \"\n",
      "C:\\Users\\micha\\AppData\\Roaming\\Python\\Python311\\site-packages\\skopt\\optimizer\\optimizer.py:449: UserWarning: The objective has been evaluated at this point before.\n",
      "  warnings.warn(\"The objective has been evaluated \"\n",
      "C:\\Users\\micha\\AppData\\Roaming\\Python\\Python311\\site-packages\\skopt\\optimizer\\optimizer.py:449: UserWarning: The objective has been evaluated at this point before.\n",
      "  warnings.warn(\"The objective has been evaluated \"\n",
      "C:\\Users\\micha\\AppData\\Roaming\\Python\\Python311\\site-packages\\skopt\\optimizer\\optimizer.py:449: UserWarning: The objective has been evaluated at this point before.\n",
      "  warnings.warn(\"The objective has been evaluated \"\n",
      "C:\\Users\\micha\\AppData\\Roaming\\Python\\Python311\\site-packages\\skopt\\optimizer\\optimizer.py:449: UserWarning: The objective has been evaluated at this point before.\n",
      "  warnings.warn(\"The objective has been evaluated \"\n"
     ]
    },
    {
     "name": "stdout",
     "output_type": "stream",
     "text": [
      "normalized? False, features used: 11, sample reduce? False, tree max depth: 64, tree mss: 2, tree acc: 0.981, forest max depth 47, forest mss: 2, forest acc: 0.994,\n",
      "normalized? False, features used: 11, sample reduce? True, tree max depth: 34, tree mss: 950, tree acc: 0.953, forest max depth 39, forest mss: 2, forest acc: 0.995,\n",
      "normalized? True, features used: 1, sample reduce? False, tree max depth: 34, tree mss: 950, tree acc: 0.925, forest max depth 1, forest mss: 2, forest acc: 0.925,\n",
      "normalized? True, features used: 1, sample reduce? True, tree max depth: 34, tree mss: 950, tree acc: 0.926, forest max depth 1, forest mss: 2, forest acc: 0.926,\n",
      "normalized? True, features used: 2, sample reduce? False, tree max depth: 64, tree mss: 548, tree acc: 0.939, forest max depth 63, forest mss: 43, forest acc: 0.943,\n",
      "normalized? True, features used: 2, sample reduce? True, tree max depth: 34, tree mss: 950, tree acc: 0.935, forest max depth 48, forest mss: 5, forest acc: 0.955,\n"
     ]
    },
    {
     "name": "stderr",
     "output_type": "stream",
     "text": [
      "C:\\Users\\micha\\AppData\\Roaming\\Python\\Python311\\site-packages\\skopt\\optimizer\\optimizer.py:449: UserWarning: The objective has been evaluated at this point before.\n",
      "  warnings.warn(\"The objective has been evaluated \"\n",
      "C:\\Users\\micha\\AppData\\Roaming\\Python\\Python311\\site-packages\\skopt\\optimizer\\optimizer.py:449: UserWarning: The objective has been evaluated at this point before.\n",
      "  warnings.warn(\"The objective has been evaluated \"\n",
      "C:\\Users\\micha\\AppData\\Roaming\\Python\\Python311\\site-packages\\skopt\\optimizer\\optimizer.py:449: UserWarning: The objective has been evaluated at this point before.\n",
      "  warnings.warn(\"The objective has been evaluated \"\n",
      "C:\\Users\\micha\\AppData\\Roaming\\Python\\Python311\\site-packages\\skopt\\optimizer\\optimizer.py:449: UserWarning: The objective has been evaluated at this point before.\n",
      "  warnings.warn(\"The objective has been evaluated \"\n"
     ]
    },
    {
     "name": "stdout",
     "output_type": "stream",
     "text": [
      "normalized? True, features used: 3, sample reduce? False, tree max depth: 64, tree mss: 2, tree acc: 0.978, forest max depth 64, forest mss: 2, forest acc: 0.950,\n"
     ]
    },
    {
     "name": "stderr",
     "output_type": "stream",
     "text": [
      "C:\\Users\\micha\\AppData\\Roaming\\Python\\Python311\\site-packages\\skopt\\optimizer\\optimizer.py:449: UserWarning: The objective has been evaluated at this point before.\n",
      "  warnings.warn(\"The objective has been evaluated \"\n"
     ]
    },
    {
     "name": "stdout",
     "output_type": "stream",
     "text": [
      "normalized? True, features used: 3, sample reduce? True, tree max depth: 64, tree mss: 15, tree acc: 0.975, forest max depth 60, forest mss: 294, forest acc: 0.986,\n"
     ]
    },
    {
     "name": "stderr",
     "output_type": "stream",
     "text": [
      "C:\\Users\\micha\\AppData\\Roaming\\Python\\Python311\\site-packages\\skopt\\optimizer\\optimizer.py:449: UserWarning: The objective has been evaluated at this point before.\n",
      "  warnings.warn(\"The objective has been evaluated \"\n",
      "C:\\Users\\micha\\AppData\\Roaming\\Python\\Python311\\site-packages\\skopt\\optimizer\\optimizer.py:449: UserWarning: The objective has been evaluated at this point before.\n",
      "  warnings.warn(\"The objective has been evaluated \"\n",
      "C:\\Users\\micha\\AppData\\Roaming\\Python\\Python311\\site-packages\\skopt\\optimizer\\optimizer.py:449: UserWarning: The objective has been evaluated at this point before.\n",
      "  warnings.warn(\"The objective has been evaluated \"\n",
      "C:\\Users\\micha\\AppData\\Roaming\\Python\\Python311\\site-packages\\skopt\\optimizer\\optimizer.py:449: UserWarning: The objective has been evaluated at this point before.\n",
      "  warnings.warn(\"The objective has been evaluated \"\n",
      "C:\\Users\\micha\\AppData\\Roaming\\Python\\Python311\\site-packages\\skopt\\optimizer\\optimizer.py:449: UserWarning: The objective has been evaluated at this point before.\n",
      "  warnings.warn(\"The objective has been evaluated \"\n",
      "C:\\Users\\micha\\AppData\\Roaming\\Python\\Python311\\site-packages\\skopt\\optimizer\\optimizer.py:449: UserWarning: The objective has been evaluated at this point before.\n",
      "  warnings.warn(\"The objective has been evaluated \"\n",
      "C:\\Users\\micha\\AppData\\Roaming\\Python\\Python311\\site-packages\\skopt\\optimizer\\optimizer.py:449: UserWarning: The objective has been evaluated at this point before.\n",
      "  warnings.warn(\"The objective has been evaluated \"\n",
      "C:\\Users\\micha\\AppData\\Roaming\\Python\\Python311\\site-packages\\skopt\\optimizer\\optimizer.py:449: UserWarning: The objective has been evaluated at this point before.\n",
      "  warnings.warn(\"The objective has been evaluated \"\n"
     ]
    },
    {
     "name": "stdout",
     "output_type": "stream",
     "text": [
      "normalized? True, features used: 4, sample reduce? False, tree max depth: 64, tree mss: 2, tree acc: 0.983, forest max depth 64, forest mss: 2, forest acc: 0.988,\n"
     ]
    },
    {
     "name": "stderr",
     "output_type": "stream",
     "text": [
      "C:\\Users\\micha\\AppData\\Roaming\\Python\\Python311\\site-packages\\skopt\\optimizer\\optimizer.py:449: UserWarning: The objective has been evaluated at this point before.\n",
      "  warnings.warn(\"The objective has been evaluated \"\n",
      "C:\\Users\\micha\\AppData\\Roaming\\Python\\Python311\\site-packages\\skopt\\optimizer\\optimizer.py:449: UserWarning: The objective has been evaluated at this point before.\n",
      "  warnings.warn(\"The objective has been evaluated \"\n",
      "C:\\Users\\micha\\AppData\\Roaming\\Python\\Python311\\site-packages\\skopt\\optimizer\\optimizer.py:449: UserWarning: The objective has been evaluated at this point before.\n",
      "  warnings.warn(\"The objective has been evaluated \"\n"
     ]
    },
    {
     "name": "stdout",
     "output_type": "stream",
     "text": [
      "normalized? True, features used: 4, sample reduce? True, tree max depth: 55, tree mss: 2, tree acc: 0.984, forest max depth 64, forest mss: 2, forest acc: 0.991,\n"
     ]
    },
    {
     "name": "stderr",
     "output_type": "stream",
     "text": [
      "C:\\Users\\micha\\AppData\\Roaming\\Python\\Python311\\site-packages\\skopt\\optimizer\\optimizer.py:449: UserWarning: The objective has been evaluated at this point before.\n",
      "  warnings.warn(\"The objective has been evaluated \"\n",
      "C:\\Users\\micha\\AppData\\Roaming\\Python\\Python311\\site-packages\\skopt\\optimizer\\optimizer.py:449: UserWarning: The objective has been evaluated at this point before.\n",
      "  warnings.warn(\"The objective has been evaluated \"\n",
      "C:\\Users\\micha\\AppData\\Roaming\\Python\\Python311\\site-packages\\skopt\\optimizer\\optimizer.py:449: UserWarning: The objective has been evaluated at this point before.\n",
      "  warnings.warn(\"The objective has been evaluated \"\n",
      "C:\\Users\\micha\\AppData\\Roaming\\Python\\Python311\\site-packages\\skopt\\optimizer\\optimizer.py:449: UserWarning: The objective has been evaluated at this point before.\n",
      "  warnings.warn(\"The objective has been evaluated \"\n",
      "C:\\Users\\micha\\AppData\\Roaming\\Python\\Python311\\site-packages\\skopt\\optimizer\\optimizer.py:449: UserWarning: The objective has been evaluated at this point before.\n",
      "  warnings.warn(\"The objective has been evaluated \"\n",
      "C:\\Users\\micha\\AppData\\Roaming\\Python\\Python311\\site-packages\\skopt\\optimizer\\optimizer.py:449: UserWarning: The objective has been evaluated at this point before.\n",
      "  warnings.warn(\"The objective has been evaluated \"\n",
      "C:\\Users\\micha\\AppData\\Roaming\\Python\\Python311\\site-packages\\skopt\\optimizer\\optimizer.py:449: UserWarning: The objective has been evaluated at this point before.\n",
      "  warnings.warn(\"The objective has been evaluated \"\n"
     ]
    },
    {
     "name": "stdout",
     "output_type": "stream",
     "text": [
      "normalized? True, features used: 5, sample reduce? False, tree max depth: 64, tree mss: 2, tree acc: 0.980, forest max depth 64, forest mss: 2, forest acc: 0.989,\n"
     ]
    },
    {
     "name": "stderr",
     "output_type": "stream",
     "text": [
      "C:\\Users\\micha\\AppData\\Roaming\\Python\\Python311\\site-packages\\skopt\\optimizer\\optimizer.py:449: UserWarning: The objective has been evaluated at this point before.\n",
      "  warnings.warn(\"The objective has been evaluated \"\n",
      "C:\\Users\\micha\\AppData\\Roaming\\Python\\Python311\\site-packages\\skopt\\optimizer\\optimizer.py:449: UserWarning: The objective has been evaluated at this point before.\n",
      "  warnings.warn(\"The objective has been evaluated \"\n"
     ]
    },
    {
     "name": "stdout",
     "output_type": "stream",
     "text": [
      "normalized? True, features used: 5, sample reduce? True, tree max depth: 64, tree mss: 2, tree acc: 0.980, forest max depth 64, forest mss: 1222, forest acc: 0.991,\n"
     ]
    },
    {
     "name": "stderr",
     "output_type": "stream",
     "text": [
      "C:\\Users\\micha\\AppData\\Roaming\\Python\\Python311\\site-packages\\skopt\\optimizer\\optimizer.py:449: UserWarning: The objective has been evaluated at this point before.\n",
      "  warnings.warn(\"The objective has been evaluated \"\n",
      "C:\\Users\\micha\\AppData\\Roaming\\Python\\Python311\\site-packages\\skopt\\optimizer\\optimizer.py:449: UserWarning: The objective has been evaluated at this point before.\n",
      "  warnings.warn(\"The objective has been evaluated \"\n",
      "C:\\Users\\micha\\AppData\\Roaming\\Python\\Python311\\site-packages\\skopt\\optimizer\\optimizer.py:449: UserWarning: The objective has been evaluated at this point before.\n",
      "  warnings.warn(\"The objective has been evaluated \"\n",
      "C:\\Users\\micha\\AppData\\Roaming\\Python\\Python311\\site-packages\\skopt\\optimizer\\optimizer.py:449: UserWarning: The objective has been evaluated at this point before.\n",
      "  warnings.warn(\"The objective has been evaluated \"\n"
     ]
    },
    {
     "name": "stdout",
     "output_type": "stream",
     "text": [
      "normalized? True, features used: 6, sample reduce? False, tree max depth: 64, tree mss: 2, tree acc: 0.982, forest max depth 64, forest mss: 416, forest acc: 0.990,\n"
     ]
    },
    {
     "name": "stderr",
     "output_type": "stream",
     "text": [
      "C:\\Users\\micha\\AppData\\Roaming\\Python\\Python311\\site-packages\\skopt\\optimizer\\optimizer.py:449: UserWarning: The objective has been evaluated at this point before.\n",
      "  warnings.warn(\"The objective has been evaluated \"\n",
      "C:\\Users\\micha\\AppData\\Roaming\\Python\\Python311\\site-packages\\skopt\\optimizer\\optimizer.py:449: UserWarning: The objective has been evaluated at this point before.\n",
      "  warnings.warn(\"The objective has been evaluated \"\n"
     ]
    },
    {
     "name": "stdout",
     "output_type": "stream",
     "text": [
      "normalized? True, features used: 6, sample reduce? True, tree max depth: 64, tree mss: 2, tree acc: 0.969, forest max depth 2, forest mss: 420, forest acc: 0.992,\n"
     ]
    },
    {
     "name": "stderr",
     "output_type": "stream",
     "text": [
      "C:\\Users\\micha\\AppData\\Roaming\\Python\\Python311\\site-packages\\skopt\\optimizer\\optimizer.py:449: UserWarning: The objective has been evaluated at this point before.\n",
      "  warnings.warn(\"The objective has been evaluated \"\n",
      "C:\\Users\\micha\\AppData\\Roaming\\Python\\Python311\\site-packages\\skopt\\optimizer\\optimizer.py:449: UserWarning: The objective has been evaluated at this point before.\n",
      "  warnings.warn(\"The objective has been evaluated \"\n",
      "C:\\Users\\micha\\AppData\\Roaming\\Python\\Python311\\site-packages\\skopt\\optimizer\\optimizer.py:449: UserWarning: The objective has been evaluated at this point before.\n",
      "  warnings.warn(\"The objective has been evaluated \"\n",
      "C:\\Users\\micha\\AppData\\Roaming\\Python\\Python311\\site-packages\\skopt\\optimizer\\optimizer.py:449: UserWarning: The objective has been evaluated at this point before.\n",
      "  warnings.warn(\"The objective has been evaluated \"\n",
      "C:\\Users\\micha\\AppData\\Roaming\\Python\\Python311\\site-packages\\skopt\\optimizer\\optimizer.py:449: UserWarning: The objective has been evaluated at this point before.\n",
      "  warnings.warn(\"The objective has been evaluated \"\n",
      "C:\\Users\\micha\\AppData\\Roaming\\Python\\Python311\\site-packages\\skopt\\optimizer\\optimizer.py:449: UserWarning: The objective has been evaluated at this point before.\n",
      "  warnings.warn(\"The objective has been evaluated \"\n"
     ]
    },
    {
     "name": "stdout",
     "output_type": "stream",
     "text": [
      "normalized? True, features used: 7, sample reduce? False, tree max depth: 64, tree mss: 2, tree acc: 0.982, forest max depth 64, forest mss: 2, forest acc: 0.990,\n"
     ]
    },
    {
     "name": "stderr",
     "output_type": "stream",
     "text": [
      "C:\\Users\\micha\\AppData\\Roaming\\Python\\Python311\\site-packages\\skopt\\optimizer\\optimizer.py:449: UserWarning: The objective has been evaluated at this point before.\n",
      "  warnings.warn(\"The objective has been evaluated \"\n"
     ]
    },
    {
     "name": "stdout",
     "output_type": "stream",
     "text": [
      "normalized? True, features used: 7, sample reduce? True, tree max depth: 34, tree mss: 950, tree acc: 0.986, forest max depth 64, forest mss: 2, forest acc: 0.992,\n"
     ]
    },
    {
     "name": "stderr",
     "output_type": "stream",
     "text": [
      "C:\\Users\\micha\\AppData\\Roaming\\Python\\Python311\\site-packages\\skopt\\optimizer\\optimizer.py:449: UserWarning: The objective has been evaluated at this point before.\n",
      "  warnings.warn(\"The objective has been evaluated \"\n",
      "C:\\Users\\micha\\AppData\\Roaming\\Python\\Python311\\site-packages\\skopt\\optimizer\\optimizer.py:449: UserWarning: The objective has been evaluated at this point before.\n",
      "  warnings.warn(\"The objective has been evaluated \"\n",
      "C:\\Users\\micha\\AppData\\Roaming\\Python\\Python311\\site-packages\\skopt\\optimizer\\optimizer.py:449: UserWarning: The objective has been evaluated at this point before.\n",
      "  warnings.warn(\"The objective has been evaluated \"\n",
      "C:\\Users\\micha\\AppData\\Roaming\\Python\\Python311\\site-packages\\skopt\\optimizer\\optimizer.py:449: UserWarning: The objective has been evaluated at this point before.\n",
      "  warnings.warn(\"The objective has been evaluated \"\n",
      "C:\\Users\\micha\\AppData\\Roaming\\Python\\Python311\\site-packages\\skopt\\optimizer\\optimizer.py:449: UserWarning: The objective has been evaluated at this point before.\n",
      "  warnings.warn(\"The objective has been evaluated \"\n"
     ]
    },
    {
     "name": "stdout",
     "output_type": "stream",
     "text": [
      "normalized? True, features used: 8, sample reduce? False, tree max depth: 64, tree mss: 2, tree acc: 0.984, forest max depth 51, forest mss: 2, forest acc: 0.992,\n"
     ]
    },
    {
     "name": "stderr",
     "output_type": "stream",
     "text": [
      "C:\\Users\\micha\\AppData\\Roaming\\Python\\Python311\\site-packages\\skopt\\optimizer\\optimizer.py:449: UserWarning: The objective has been evaluated at this point before.\n",
      "  warnings.warn(\"The objective has been evaluated \"\n",
      "C:\\Users\\micha\\AppData\\Roaming\\Python\\Python311\\site-packages\\skopt\\optimizer\\optimizer.py:449: UserWarning: The objective has been evaluated at this point before.\n",
      "  warnings.warn(\"The objective has been evaluated \"\n",
      "C:\\Users\\micha\\AppData\\Roaming\\Python\\Python311\\site-packages\\skopt\\optimizer\\optimizer.py:449: UserWarning: The objective has been evaluated at this point before.\n",
      "  warnings.warn(\"The objective has been evaluated \"\n"
     ]
    },
    {
     "name": "stdout",
     "output_type": "stream",
     "text": [
      "normalized? True, features used: 8, sample reduce? True, tree max depth: 64, tree mss: 2, tree acc: 0.980, forest max depth 50, forest mss: 2, forest acc: 0.993,\n"
     ]
    },
    {
     "name": "stderr",
     "output_type": "stream",
     "text": [
      "C:\\Users\\micha\\AppData\\Roaming\\Python\\Python311\\site-packages\\skopt\\optimizer\\optimizer.py:449: UserWarning: The objective has been evaluated at this point before.\n",
      "  warnings.warn(\"The objective has been evaluated \"\n",
      "C:\\Users\\micha\\AppData\\Roaming\\Python\\Python311\\site-packages\\skopt\\optimizer\\optimizer.py:449: UserWarning: The objective has been evaluated at this point before.\n",
      "  warnings.warn(\"The objective has been evaluated \"\n",
      "C:\\Users\\micha\\AppData\\Roaming\\Python\\Python311\\site-packages\\skopt\\optimizer\\optimizer.py:449: UserWarning: The objective has been evaluated at this point before.\n",
      "  warnings.warn(\"The objective has been evaluated \"\n",
      "C:\\Users\\micha\\AppData\\Roaming\\Python\\Python311\\site-packages\\skopt\\optimizer\\optimizer.py:449: UserWarning: The objective has been evaluated at this point before.\n",
      "  warnings.warn(\"The objective has been evaluated \"\n",
      "C:\\Users\\micha\\AppData\\Roaming\\Python\\Python311\\site-packages\\skopt\\optimizer\\optimizer.py:449: UserWarning: The objective has been evaluated at this point before.\n",
      "  warnings.warn(\"The objective has been evaluated \"\n",
      "C:\\Users\\micha\\AppData\\Roaming\\Python\\Python311\\site-packages\\skopt\\optimizer\\optimizer.py:449: UserWarning: The objective has been evaluated at this point before.\n",
      "  warnings.warn(\"The objective has been evaluated \"\n"
     ]
    },
    {
     "name": "stdout",
     "output_type": "stream",
     "text": [
      "normalized? True, features used: 9, sample reduce? False, tree max depth: 45, tree mss: 33, tree acc: 0.984, forest max depth 64, forest mss: 2, forest acc: 0.994,\n"
     ]
    },
    {
     "name": "stderr",
     "output_type": "stream",
     "text": [
      "C:\\Users\\micha\\AppData\\Roaming\\Python\\Python311\\site-packages\\skopt\\optimizer\\optimizer.py:449: UserWarning: The objective has been evaluated at this point before.\n",
      "  warnings.warn(\"The objective has been evaluated \"\n"
     ]
    },
    {
     "name": "stdout",
     "output_type": "stream",
     "text": [
      "normalized? True, features used: 9, sample reduce? True, tree max depth: 51, tree mss: 2, tree acc: 0.986, forest max depth 64, forest mss: 2, forest acc: 0.995,\n"
     ]
    },
    {
     "name": "stderr",
     "output_type": "stream",
     "text": [
      "C:\\Users\\micha\\AppData\\Roaming\\Python\\Python311\\site-packages\\skopt\\optimizer\\optimizer.py:449: UserWarning: The objective has been evaluated at this point before.\n",
      "  warnings.warn(\"The objective has been evaluated \"\n",
      "C:\\Users\\micha\\AppData\\Roaming\\Python\\Python311\\site-packages\\skopt\\optimizer\\optimizer.py:449: UserWarning: The objective has been evaluated at this point before.\n",
      "  warnings.warn(\"The objective has been evaluated \"\n",
      "C:\\Users\\micha\\AppData\\Roaming\\Python\\Python311\\site-packages\\skopt\\optimizer\\optimizer.py:449: UserWarning: The objective has been evaluated at this point before.\n",
      "  warnings.warn(\"The objective has been evaluated \"\n",
      "C:\\Users\\micha\\AppData\\Roaming\\Python\\Python311\\site-packages\\skopt\\optimizer\\optimizer.py:449: UserWarning: The objective has been evaluated at this point before.\n",
      "  warnings.warn(\"The objective has been evaluated \"\n",
      "C:\\Users\\micha\\AppData\\Roaming\\Python\\Python311\\site-packages\\skopt\\optimizer\\optimizer.py:449: UserWarning: The objective has been evaluated at this point before.\n",
      "  warnings.warn(\"The objective has been evaluated \"\n",
      "C:\\Users\\micha\\AppData\\Roaming\\Python\\Python311\\site-packages\\skopt\\optimizer\\optimizer.py:449: UserWarning: The objective has been evaluated at this point before.\n",
      "  warnings.warn(\"The objective has been evaluated \"\n",
      "C:\\Users\\micha\\AppData\\Roaming\\Python\\Python311\\site-packages\\skopt\\optimizer\\optimizer.py:449: UserWarning: The objective has been evaluated at this point before.\n",
      "  warnings.warn(\"The objective has been evaluated \"\n",
      "C:\\Users\\micha\\AppData\\Roaming\\Python\\Python311\\site-packages\\skopt\\optimizer\\optimizer.py:449: UserWarning: The objective has been evaluated at this point before.\n",
      "  warnings.warn(\"The objective has been evaluated \"\n"
     ]
    },
    {
     "name": "stdout",
     "output_type": "stream",
     "text": [
      "normalized? True, features used: 10, sample reduce? False, tree max depth: 64, tree mss: 2, tree acc: 0.981, forest max depth 47, forest mss: 17, forest acc: 0.993,\n"
     ]
    },
    {
     "name": "stderr",
     "output_type": "stream",
     "text": [
      "C:\\Users\\micha\\AppData\\Roaming\\Python\\Python311\\site-packages\\skopt\\optimizer\\optimizer.py:449: UserWarning: The objective has been evaluated at this point before.\n",
      "  warnings.warn(\"The objective has been evaluated \"\n",
      "C:\\Users\\micha\\AppData\\Roaming\\Python\\Python311\\site-packages\\skopt\\optimizer\\optimizer.py:449: UserWarning: The objective has been evaluated at this point before.\n",
      "  warnings.warn(\"The objective has been evaluated \"\n"
     ]
    },
    {
     "name": "stdout",
     "output_type": "stream",
     "text": [
      "normalized? True, features used: 10, sample reduce? True, tree max depth: 64, tree mss: 2, tree acc: 0.986, forest max depth 64, forest mss: 662, forest acc: 0.995,\n"
     ]
    },
    {
     "name": "stderr",
     "output_type": "stream",
     "text": [
      "C:\\Users\\micha\\AppData\\Roaming\\Python\\Python311\\site-packages\\skopt\\optimizer\\optimizer.py:449: UserWarning: The objective has been evaluated at this point before.\n",
      "  warnings.warn(\"The objective has been evaluated \"\n",
      "C:\\Users\\micha\\AppData\\Roaming\\Python\\Python311\\site-packages\\skopt\\optimizer\\optimizer.py:449: UserWarning: The objective has been evaluated at this point before.\n",
      "  warnings.warn(\"The objective has been evaluated \"\n",
      "C:\\Users\\micha\\AppData\\Roaming\\Python\\Python311\\site-packages\\skopt\\optimizer\\optimizer.py:449: UserWarning: The objective has been evaluated at this point before.\n",
      "  warnings.warn(\"The objective has been evaluated \"\n",
      "C:\\Users\\micha\\AppData\\Roaming\\Python\\Python311\\site-packages\\skopt\\optimizer\\optimizer.py:449: UserWarning: The objective has been evaluated at this point before.\n",
      "  warnings.warn(\"The objective has been evaluated \"\n",
      "C:\\Users\\micha\\AppData\\Roaming\\Python\\Python311\\site-packages\\skopt\\optimizer\\optimizer.py:449: UserWarning: The objective has been evaluated at this point before.\n",
      "  warnings.warn(\"The objective has been evaluated \"\n",
      "C:\\Users\\micha\\AppData\\Roaming\\Python\\Python311\\site-packages\\skopt\\optimizer\\optimizer.py:449: UserWarning: The objective has been evaluated at this point before.\n",
      "  warnings.warn(\"The objective has been evaluated \"\n",
      "C:\\Users\\micha\\AppData\\Roaming\\Python\\Python311\\site-packages\\skopt\\optimizer\\optimizer.py:449: UserWarning: The objective has been evaluated at this point before.\n",
      "  warnings.warn(\"The objective has been evaluated \"\n"
     ]
    },
    {
     "name": "stdout",
     "output_type": "stream",
     "text": [
      "normalized? True, features used: 11, sample reduce? False, tree max depth: 64, tree mss: 2, tree acc: 0.981, forest max depth 64, forest mss: 2, forest acc: 0.994,\n",
      "normalized? True, features used: 11, sample reduce? True, tree max depth: 34, tree mss: 950, tree acc: 0.953, forest max depth 64, forest mss: 28, forest acc: 0.995,\n"
     ]
    }
   ],
   "source": [
    "#This cell does optimization for classification.\n",
    "#THIS CELL HAS EXTREMELY LONG RUNTIME. To ameliorate this:\n",
    "#The inner and outer CV folds are reduced (must be at least 2)\n",
    "outer_cv_folds = 2\n",
    "inner_cv_folds = 2\n",
    "#The n_iter for BayesSearchCV is reduced\n",
    "n_iter = 20 #default is 50, but reducing this to 20 greatly speeds up the runtime and preserves adequate hyperparam search\n",
    "\n",
    "from sklearn.tree import DecisionTreeClassifier\n",
    "from sklearn.ensemble import RandomForestClassifier\n",
    "from sklearn.model_selection import cross_val_score, KFold #Allows a setup of nested resampling\n",
    "\n",
    "#Hyperparams - exponential grid-search - but this will be switching to BayesSearchCV.\n",
    "#These values are still useful for setting min and max in BayesSearchCV.\n",
    "#Same max depth and min samples split will be used for both tree and forest\n",
    "hp_list_max_depth_exponents_DTC = [i for i in range(0,7)]\n",
    "hp_list_max_depth_DTC = [2**i for i in hp_list_max_depth_exponents_DTC]\n",
    "\n",
    "hp_list_min_samples_split_exponents_DTC = [i for i in range(1, 15)]\n",
    "hp_list_min_samples_split_DTC = [2**i for i in hp_list_min_samples_split_exponents_DTC]\n",
    "\n",
    "#Create dataframe to store results for further analysis\n",
    "df_cls_results_types = {\n",
    "    \"Normalized\"    :   \"bool\",\n",
    "    \"FeatureAmt\"    :   \"int\",\n",
    "    \"SampleReduce\"  :   \"bool\",\n",
    "    \"TreeMaxDepth\"  :   \"int\",\n",
    "    \"TreeMinSamplesSplit\"   :   \"int\",\n",
    "    \"TreeAccuracy\"  :   \"float\",\n",
    "    \"ForestMaxDepth\"    :   \"int\",\n",
    "    \"ForestMinSamplesSplit\"   :   \"int\",\n",
    "    \"ForestAccuracy\"  :   \"float\",\n",
    "}\n",
    "df_cls_results = pd.DataFrame(columns=df_cls_results_types.keys()).astype(df_cls_results_types)\n",
    "\n",
    "#Create the nested loops of optimization\n",
    "for is_norm in [False, True]:\n",
    "    for feature_amt in [amt for amt in range(1, len(df_white.columns))]:#Will test every feature subset from the 1 sole top feature to using every feature\n",
    "        for is_sample_reduce in [False, True]:\n",
    "            df_curr = df_all.copy(deep=True)\n",
    "            if is_norm:\n",
    "                df_curr = pipe_normalize(df_curr, target_name=\"color\")\n",
    "            df_curr = pipe_feature_reduce(df_curr, target_name=\"color\", amt=feature_amt)\n",
    "            if is_sample_reduce:\n",
    "                df_curr = pipe_sample_reduce(df_curr)\n",
    "            features_curr = df_curr.iloc[:, :-1]\n",
    "            target_curr = df_curr['color']\n",
    "\n",
    "            #First learner to tune over\n",
    "            DTC = DecisionTreeClassifier(random_state=0)\n",
    "            BS = BayesSearchCV(DTC,\n",
    "                {\n",
    "                    'max_depth' : Integer(min(hp_list_max_depth_DTC), max(hp_list_max_depth_DTC)),\n",
    "                    'min_samples_split' : Integer(min(hp_list_min_samples_split_DTC), max(hp_list_min_samples_split_DTC)),\n",
    "                },\n",
    "                scoring='accuracy',\n",
    "                random_state=0,\n",
    "                cv=inner_cv_folds,\n",
    "                n_iter=n_iter,\n",
    "            )\n",
    "            outer_cv = KFold(n_splits=outer_cv_folds, shuffle=True, random_state=0)\n",
    "            outer_scores = cross_val_score(BS, features_curr.to_numpy(), target_curr.to_numpy(), cv=outer_cv)\n",
    "            BS.fit(features_curr.to_numpy(), target_curr.to_numpy())\n",
    "            best_max_depth_tree = BS.best_params_[\"max_depth\"]\n",
    "            best_min_samples_split_tree = BS.best_params_[\"min_samples_split\"]\n",
    "            acc_tree = outer_scores.mean()\n",
    "\n",
    "            #Second learner to tune over\n",
    "            RFC = RandomForestClassifier(random_state=0)\n",
    "            BS = BayesSearchCV(RFC,\n",
    "                {\n",
    "                    'max_depth' : Integer(min(hp_list_max_depth_DTC), max(hp_list_max_depth_DTC)),\n",
    "                    'min_samples_split' : Integer(min(hp_list_min_samples_split_DTC), max(hp_list_min_samples_split_DTC)),\n",
    "                },\n",
    "                scoring='accuracy',\n",
    "                random_state=0,\n",
    "                cv=inner_cv_folds,\n",
    "                n_iter=n_iter,\n",
    "            )\n",
    "            outer_scores = cross_val_score(BS, features_curr.to_numpy(), target_curr.to_numpy(), cv=outer_cv)\n",
    "            BS.fit(features_curr.to_numpy(), target_curr.to_numpy())\n",
    "            best_max_depth_forest = BS.best_params_[\"max_depth\"]\n",
    "            best_min_samples_split_forest = BS.best_params_[\"min_samples_split\"]\n",
    "            acc_forest = outer_scores.mean()\n",
    "\n",
    "            print((\"normalized? {0}, features used: {1}, sample reduce? {2}, tree max depth: {3}, tree mss: {4}, \" + \\\n",
    "                \"tree acc: {5:.3f}, forest max depth {6}, forest mss: {7}, forest acc: {8:.3f},\")\\\n",
    "                .format(is_norm, feature_amt, is_sample_reduce, best_max_depth_tree, best_min_samples_split_tree, acc_tree,\n",
    "                best_max_depth_forest, best_min_samples_split_forest, acc_forest))\n",
    "\n",
    "            df_cls_results.loc[len(df_cls_results.index)] = [\n",
    "                is_norm,\n",
    "                feature_amt,\n",
    "                is_sample_reduce,\n",
    "                best_max_depth_tree,\n",
    "                best_min_samples_split_tree,\n",
    "                acc_tree,\n",
    "                best_max_depth_forest,\n",
    "                best_min_samples_split_forest,\n",
    "                acc_forest,\n",
    "            ]\n",
    "\n",
    "df_cls_results.to_csv(\"df_cls_results.csv\", index=False) #so the results can just be reloaded later without having to rerun this cell"
   ]
  },
  {
   "cell_type": "code",
   "execution_count": 22,
   "metadata": {},
   "outputs": [],
   "source": [
    "#Load the results dataframe as opposed to running the cell above\n",
    "df_cls_results = pd.read_csv(\"df_cls_results.csv\")"
   ]
  },
  {
   "cell_type": "code",
   "execution_count": 48,
   "metadata": {},
   "outputs": [
    {
     "data": {
      "text/plain": [
       "Normalized                   True\n",
       "FeatureAmt                      7\n",
       "SampleReduce                 True\n",
       "TreeMaxDepth                   34\n",
       "TreeMinSamplesSplit           950\n",
       "TreeAccuracy             0.986422\n",
       "ForestMaxDepth                 64\n",
       "ForestMinSamplesSplit           2\n",
       "ForestAccuracy            0.99211\n",
       "Name: 35, dtype: object"
      ]
     },
     "execution_count": 48,
     "metadata": {},
     "output_type": "execute_result"
    }
   ],
   "source": [
    "#Print best result found for the tree\n",
    "df_cls_results.loc[df_cls_results[\"TreeAccuracy\"].idxmax()]"
   ]
  },
  {
   "cell_type": "code",
   "execution_count": 49,
   "metadata": {},
   "outputs": [
    {
     "data": {
      "text/plain": [
       "Normalized                  False\n",
       "FeatureAmt                     10\n",
       "SampleReduce                 True\n",
       "TreeMaxDepth                   64\n",
       "TreeMinSamplesSplit             2\n",
       "TreeAccuracy             0.985273\n",
       "ForestMaxDepth                 64\n",
       "ForestMinSamplesSplit         662\n",
       "ForestAccuracy           0.994826\n",
       "Name: 19, dtype: object"
      ]
     },
     "execution_count": 49,
     "metadata": {},
     "output_type": "execute_result"
    }
   ],
   "source": [
    "#Print best result found for the forest\n",
    "df_cls_results.loc[df_cls_results[\"ForestAccuracy\"].idxmax()]"
   ]
  },
  {
   "cell_type": "code",
   "execution_count": 30,
   "metadata": {},
   "outputs": [
    {
     "data": {
      "image/png": "[encoded data removed]",
      "text/plain": [
       "<Figure size 640x480 with 1 Axes>"
      ]
     },
     "metadata": {},
     "output_type": "display_data"
    }
   ],
   "source": [
    "#Scatter plot of tree and forest accuracies\n",
    "tree_accuracies = df_cls_results[\"TreeAccuracy\"].to_numpy()\n",
    "forest_accuracies = df_cls_results[\"ForestAccuracy\"].to_numpy()\n",
    "plt.scatter(tree_accuracies, forest_accuracies)\n",
    "plt.title(\"Scatter plot of forest and tree accuracies\")\n",
    "plt.xlabel(\"Tree\")\n",
    "plt.ylabel(\"Forest\", rotation=0, labelpad=20)\n",
    "plt.tight_layout()\n",
    "plt.savefig(\"accuracy_scatterplot\")"
   ]
  },
  {
   "cell_type": "code",
   "execution_count": 45,
   "metadata": {},
   "outputs": [
    {
     "data": {
      "image/png": "[encoded data removed]",
      "text/plain": [
       "<Figure size 800x1200 with 3 Axes>"
      ]
     },
     "metadata": {},
     "output_type": "display_data"
    }
   ],
   "source": [
    "#Plot performance across the changes in pipeline steps.\n",
    "#Normalization\n",
    "normalization_bool_vals = [False, True]\n",
    "normalization_accs_mean_tree = [df_cls_results[df_cls_results[\"Normalized\"] == val][\"TreeAccuracy\"].mean() for val in normalization_bool_vals]\n",
    "normalization_accs_med_tree = [df_cls_results[df_cls_results[\"Normalized\"] == val][\"TreeAccuracy\"].median() for val in normalization_bool_vals]\n",
    "normalization_accs_mean_forest = [df_cls_results[df_cls_results[\"Normalized\"] == val][\"ForestAccuracy\"].mean() for val in normalization_bool_vals]\n",
    "normalization_accs_med_forest = [df_cls_results[df_cls_results[\"Normalized\"] == val][\"ForestAccuracy\"].median() for val in normalization_bool_vals]\n",
    "\n",
    "#Feature reduction\n",
    "feature_amt_vals = [val for val in range(1, len(df_white.columns))]\n",
    "feature_amt_accs_mean_tree = [df_cls_results[df_cls_results[\"FeatureAmt\"] == val][\"TreeAccuracy\"].mean() for val in feature_amt_vals]\n",
    "feature_amt_accs_med_tree = [df_cls_results[df_cls_results[\"FeatureAmt\"] == val][\"TreeAccuracy\"].median() for val in feature_amt_vals]\n",
    "feature_amt_accs_mean_forest = [df_cls_results[df_cls_results[\"FeatureAmt\"] == val][\"ForestAccuracy\"].mean() for val in feature_amt_vals]\n",
    "feature_amt_accs_med_forest = [df_cls_results[df_cls_results[\"FeatureAmt\"] == val][\"ForestAccuracy\"].median() for val in feature_amt_vals]\n",
    "\n",
    "#Sample reduction (outlier removal)\n",
    "sample_bool_vals = [False, True]\n",
    "sample_accs_mean_tree = [df_cls_results[df_cls_results[\"SampleReduce\"] == val][\"TreeAccuracy\"].mean() for val in sample_bool_vals]\n",
    "sample_accs_med_tree = [df_cls_results[df_cls_results[\"SampleReduce\"] == val][\"TreeAccuracy\"].median() for val in sample_bool_vals]\n",
    "sample_accs_mean_forest = [df_cls_results[df_cls_results[\"SampleReduce\"] == val][\"ForestAccuracy\"].mean() for val in sample_bool_vals]\n",
    "sample_accs_med_forest = [df_cls_results[df_cls_results[\"SampleReduce\"] == val][\"ForestAccuracy\"].median() for val in sample_bool_vals]\n",
    "\n",
    "fig, axs = plt.subplots(3, 1, figsize=(8,12))\n",
    "\n",
    "bar_width = 0.1\n",
    "axs[0].bar(np.array([0 if val == False else 1 for val in normalization_bool_vals]), normalization_accs_mean_tree, width=bar_width, label=\"tree - mean\")\n",
    "axs[0].bar(np.array([0 if val == False else 1 for val in normalization_bool_vals]) + bar_width, normalization_accs_med_tree, width=bar_width, label=\"tree - median\")\n",
    "axs[0].bar(np.array([0 if val == False else 1 for val in normalization_bool_vals]) + 2 * bar_width, normalization_accs_mean_forest, width=bar_width, label=\"forest - mean\")\n",
    "axs[0].bar(np.array([0 if val == False else 1 for val in normalization_bool_vals]) + 3 * bar_width, normalization_accs_med_forest, width=bar_width, label=\"forest - median\")\n",
    "axs[0].set_xticks(normalization_bool_vals, [\"False\" if val == False else \"True\" for val in normalization_bool_vals])\n",
    "axs[0].set_ylim(0.96, 1)\n",
    "axs[0].set_title(\"Accuracy as values are normalized\")\n",
    "axs[0].set_xlabel(\"Normalization\")\n",
    "axs[0].legend()\n",
    "\n",
    "axs[1].plot(feature_amt_vals, feature_amt_accs_mean_tree, label=\"tree - mean\")\n",
    "axs[1].plot(feature_amt_vals, feature_amt_accs_med_tree, label=\"tree - median\")\n",
    "axs[1].plot(feature_amt_vals, feature_amt_accs_mean_forest, label=\"forest - mean\")\n",
    "axs[1].plot(feature_amt_vals, feature_amt_accs_med_forest, label=\"forest - median\")\n",
    "axs[1].set_xticks(feature_amt_vals)\n",
    "axs[1].set_title(\"Accuracy as features are selected based on correlation with target,\\nextreme underperforming values omitted\")\n",
    "axs[1].set_xlabel(\"Amount of features\")\n",
    "axs[1].legend()\n",
    "\n",
    "axs[2].bar(np.array([0 if val == False else 1 for val in sample_bool_vals]), sample_accs_mean_tree, width=bar_width, label=\"tree - mean\")\n",
    "axs[2].bar(np.array([0 if val == False else 1 for val in sample_bool_vals]) + bar_width, sample_accs_med_tree, width=bar_width, label=\"tree - median\")\n",
    "axs[2].bar(np.array([0 if val == False else 1 for val in sample_bool_vals]) + 2 * bar_width, sample_accs_mean_forest, width=bar_width, label=\"forest - mean\")\n",
    "axs[2].bar(np.array([0 if val == False else 1 for val in sample_bool_vals]) + 3 * bar_width, sample_accs_med_forest, width=bar_width, label=\"forest - median\")\n",
    "axs[2].set_xticks(sample_bool_vals, [\"False\" if val == False else \"True\" for val in normalization_bool_vals])\n",
    "axs[2].set_ylim(0.96, 1)\n",
    "axs[2].set_title(\"Accuracy as outliers are removed from the data\")\n",
    "axs[2].set_xlabel(\"Outlier removal\")\n",
    "axs[2].legend()\n",
    "\n",
    "for ax in range(3):\n",
    "    axs[ax].set_ylabel(\"Accuracy\", rotation=0, labelpad=20)\n",
    "\n",
    "plt.tight_layout()\n",
    "\n",
    "plt.savefig(\"classification_performance\")"
   ]
  }
 ],
 "metadata": {
  "kernelspec": {
   "display_name": "Python 3 (ipykernel)",
   "language": "python",
   "name": "python3"
  },
  "language_info": {
   "codemirror_mode": {
    "name": "ipython",
    "version": 3
   },
   "file_extension": ".py",
   "mimetype": "text/x-python",
   "name": "python",
   "nbconvert_exporter": "python",
   "pygments_lexer": "ipython3",
   "version": "3.11.2"
  }
 },
 "nbformat": 4,
 "nbformat_minor": 5
}
